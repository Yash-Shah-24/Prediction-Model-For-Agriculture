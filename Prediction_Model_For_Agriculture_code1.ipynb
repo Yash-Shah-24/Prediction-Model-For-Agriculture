{
  "nbformat": 4,
  "nbformat_minor": 0,
  "metadata": {
    "colab": {
      "name": "capstone_code1_Group5.ipynb",
      "provenance": [],
      "collapsed_sections": []
    },
    "kernelspec": {
      "name": "python3",
      "display_name": "Python 3"
    }
  },
  "cells": [
    {
      "cell_type": "markdown",
      "metadata": {
        "id": "1IeFIrOOn790"
      },
      "source": [
        "\n",
        "1.   Karan Patel 100812891\n",
        "1.   Munjal Patel 100810810\n",
        "2.   Yash Shah 100812896\n",
        "\n"
      ]
    },
    {
      "cell_type": "markdown",
      "metadata": {
        "id": "wZa4YLEAorl3"
      },
      "source": [
        "# Data preprocessing"
      ]
    },
    {
      "cell_type": "code",
      "metadata": {
        "colab": {
          "base_uri": "https://localhost:8080/",
          "height": 195
        },
        "id": "7IfkAT1sjVci",
        "outputId": "6d0f6ccd-60ba-4191-fda1-a915f573f1c9"
      },
      "source": [
        "#loading libraries\n",
        "import pandas as pd\n",
        "import numpy as np\n",
        "import seaborn as sb\n",
        "import missingno as msno\n",
        "import matplotlib.pyplot as plt\n",
        "data = pd .read_csv(\"dataset_agri_1_final.csv\") #load the dataset\n",
        "data.head()                                     #Top five rows will be printed from dataset to understand it"
      ],
      "execution_count": null,
      "outputs": [
        {
          "output_type": "execute_result",
          "data": {
            "text/html": [
              "<div>\n",
              "<style scoped>\n",
              "    .dataframe tbody tr th:only-of-type {\n",
              "        vertical-align: middle;\n",
              "    }\n",
              "\n",
              "    .dataframe tbody tr th {\n",
              "        vertical-align: top;\n",
              "    }\n",
              "\n",
              "    .dataframe thead th {\n",
              "        text-align: right;\n",
              "    }\n",
              "</style>\n",
              "<table border=\"1\" class=\"dataframe\">\n",
              "  <thead>\n",
              "    <tr style=\"text-align: right;\">\n",
              "      <th></th>\n",
              "      <th>STATE</th>\n",
              "      <th>SOWNING SEASON</th>\n",
              "      <th>TEMP(°C)</th>\n",
              "      <th>SOIL  TYPE</th>\n",
              "      <th>CROP'S WATER NEED(mm)</th>\n",
              "      <th>COST OF PRODUCTION(Rs/Qtl)</th>\n",
              "      <th>YIELD(Qtl/ha)</th>\n",
              "      <th>CROP TYPE</th>\n",
              "    </tr>\n",
              "  </thead>\n",
              "  <tbody>\n",
              "    <tr>\n",
              "      <th>0</th>\n",
              "      <td>MP</td>\n",
              "      <td>WINTER</td>\n",
              "      <td>20</td>\n",
              "      <td>LOAM</td>\n",
              "      <td>900</td>\n",
              "      <td>400</td>\n",
              "      <td>40.0</td>\n",
              "      <td>DRY CHILLI</td>\n",
              "    </tr>\n",
              "    <tr>\n",
              "      <th>1</th>\n",
              "      <td>MP</td>\n",
              "      <td>WINTER</td>\n",
              "      <td>20</td>\n",
              "      <td>CLAY</td>\n",
              "      <td>850</td>\n",
              "      <td>450</td>\n",
              "      <td>42.0</td>\n",
              "      <td>DRY CHILLI</td>\n",
              "    </tr>\n",
              "    <tr>\n",
              "      <th>2</th>\n",
              "      <td>MP</td>\n",
              "      <td>SPRING</td>\n",
              "      <td>25</td>\n",
              "      <td>LOAM</td>\n",
              "      <td>910</td>\n",
              "      <td>500</td>\n",
              "      <td>43.0</td>\n",
              "      <td>DRY CHILLI</td>\n",
              "    </tr>\n",
              "    <tr>\n",
              "      <th>3</th>\n",
              "      <td>MP</td>\n",
              "      <td>SPRING</td>\n",
              "      <td>25</td>\n",
              "      <td>SANDY</td>\n",
              "      <td>1000</td>\n",
              "      <td>490</td>\n",
              "      <td>45.0</td>\n",
              "      <td>DRY CHILLI</td>\n",
              "    </tr>\n",
              "    <tr>\n",
              "      <th>4</th>\n",
              "      <td>UP</td>\n",
              "      <td>WINTER</td>\n",
              "      <td>22</td>\n",
              "      <td>LOAM</td>\n",
              "      <td>860</td>\n",
              "      <td>590</td>\n",
              "      <td>39.0</td>\n",
              "      <td>DRY CHILLI</td>\n",
              "    </tr>\n",
              "  </tbody>\n",
              "</table>\n",
              "</div>"
            ],
            "text/plain": [
              "  STATE SOWNING SEASON  ...  YIELD(Qtl/ha)   CROP TYPE\n",
              "0    MP         WINTER  ...           40.0  DRY CHILLI\n",
              "1    MP         WINTER  ...           42.0  DRY CHILLI\n",
              "2    MP         SPRING  ...           43.0  DRY CHILLI\n",
              "3    MP         SPRING  ...           45.0  DRY CHILLI\n",
              "4    UP         WINTER  ...           39.0  DRY CHILLI\n",
              "\n",
              "[5 rows x 8 columns]"
            ]
          },
          "metadata": {
            "tags": []
          },
          "execution_count": 31
        }
      ]
    },
    {
      "cell_type": "code",
      "metadata": {
        "colab": {
          "base_uri": "https://localhost:8080/",
          "height": 284
        },
        "id": "Z3ObV62lm3AD",
        "outputId": "729e9b7f-dec1-4ccb-9bc3-7d599f76e167"
      },
      "source": [
        "data.describe()"
      ],
      "execution_count": null,
      "outputs": [
        {
          "output_type": "execute_result",
          "data": {
            "text/html": [
              "<div>\n",
              "<style scoped>\n",
              "    .dataframe tbody tr th:only-of-type {\n",
              "        vertical-align: middle;\n",
              "    }\n",
              "\n",
              "    .dataframe tbody tr th {\n",
              "        vertical-align: top;\n",
              "    }\n",
              "\n",
              "    .dataframe thead th {\n",
              "        text-align: right;\n",
              "    }\n",
              "</style>\n",
              "<table border=\"1\" class=\"dataframe\">\n",
              "  <thead>\n",
              "    <tr style=\"text-align: right;\">\n",
              "      <th></th>\n",
              "      <th>TEMP(°C)</th>\n",
              "      <th>CROP'S WATER NEED(mm)</th>\n",
              "      <th>COST OF PRODUCTION(Rs/Qtl)</th>\n",
              "      <th>YIELD(Qtl/ha)</th>\n",
              "    </tr>\n",
              "  </thead>\n",
              "  <tbody>\n",
              "    <tr>\n",
              "      <th>count</th>\n",
              "      <td>99.000000</td>\n",
              "      <td>99.000000</td>\n",
              "      <td>99.000000</td>\n",
              "      <td>99.000000</td>\n",
              "    </tr>\n",
              "    <tr>\n",
              "      <th>mean</th>\n",
              "      <td>24.545455</td>\n",
              "      <td>836.484848</td>\n",
              "      <td>2380.353535</td>\n",
              "      <td>132.351515</td>\n",
              "    </tr>\n",
              "    <tr>\n",
              "      <th>std</th>\n",
              "      <td>5.297810</td>\n",
              "      <td>506.864297</td>\n",
              "      <td>1870.715002</td>\n",
              "      <td>287.989007</td>\n",
              "    </tr>\n",
              "    <tr>\n",
              "      <th>min</th>\n",
              "      <td>9.000000</td>\n",
              "      <td>300.000000</td>\n",
              "      <td>220.000000</td>\n",
              "      <td>4.000000</td>\n",
              "    </tr>\n",
              "    <tr>\n",
              "      <th>25%</th>\n",
              "      <td>22.000000</td>\n",
              "      <td>515.000000</td>\n",
              "      <td>995.000000</td>\n",
              "      <td>23.000000</td>\n",
              "    </tr>\n",
              "    <tr>\n",
              "      <th>50%</th>\n",
              "      <td>25.000000</td>\n",
              "      <td>601.000000</td>\n",
              "      <td>1470.000000</td>\n",
              "      <td>29.000000</td>\n",
              "    </tr>\n",
              "    <tr>\n",
              "      <th>75%</th>\n",
              "      <td>29.000000</td>\n",
              "      <td>1015.000000</td>\n",
              "      <td>4605.000000</td>\n",
              "      <td>63.500000</td>\n",
              "    </tr>\n",
              "    <tr>\n",
              "      <th>max</th>\n",
              "      <td>35.000000</td>\n",
              "      <td>2500.000000</td>\n",
              "      <td>5420.000000</td>\n",
              "      <td>1060.000000</td>\n",
              "    </tr>\n",
              "  </tbody>\n",
              "</table>\n",
              "</div>"
            ],
            "text/plain": [
              "        TEMP(°C)  ...  YIELD(Qtl/ha)\n",
              "count  99.000000  ...      99.000000\n",
              "mean   24.545455  ...     132.351515\n",
              "std     5.297810  ...     287.989007\n",
              "min     9.000000  ...       4.000000\n",
              "25%    22.000000  ...      23.000000\n",
              "50%    25.000000  ...      29.000000\n",
              "75%    29.000000  ...      63.500000\n",
              "max    35.000000  ...    1060.000000\n",
              "\n",
              "[8 rows x 4 columns]"
            ]
          },
          "metadata": {
            "tags": []
          },
          "execution_count": 32
        }
      ]
    },
    {
      "cell_type": "code",
      "metadata": {
        "colab": {
          "base_uri": "https://localhost:8080/"
        },
        "id": "o06GerA47OIA",
        "outputId": "a2ea7f4b-47f3-4170-f928-f2b323fd7791"
      },
      "source": [
        "data.info()"
      ],
      "execution_count": null,
      "outputs": [
        {
          "output_type": "stream",
          "text": [
            "<class 'pandas.core.frame.DataFrame'>\n",
            "RangeIndex: 99 entries, 0 to 98\n",
            "Data columns (total 8 columns):\n",
            " #   Column                      Non-Null Count  Dtype  \n",
            "---  ------                      --------------  -----  \n",
            " 0   STATE                       99 non-null     object \n",
            " 1   SOWNING SEASON              99 non-null     object \n",
            " 2   TEMP(°C)                    99 non-null     int64  \n",
            " 3   SOIL  TYPE                  99 non-null     object \n",
            " 4   CROP'S WATER NEED(mm)       99 non-null     int64  \n",
            " 5   COST OF PRODUCTION(Rs/Qtl)  99 non-null     int64  \n",
            " 6   YIELD(Qtl/ha)               99 non-null     float64\n",
            " 7   CROP TYPE                   99 non-null     object \n",
            "dtypes: float64(1), int64(3), object(4)\n",
            "memory usage: 6.3+ KB\n"
          ],
          "name": "stdout"
        }
      ]
    },
    {
      "cell_type": "code",
      "metadata": {
        "colab": {
          "base_uri": "https://localhost:8080/"
        },
        "id": "s904MpwIm5Y5",
        "outputId": "273fceb4-45fb-467b-f962-67132126595b"
      },
      "source": [
        "data.nunique()                # This will give how many unique values are there in every column\n",
        "#data['SOIL  TYPE'].unique()"
      ],
      "execution_count": null,
      "outputs": [
        {
          "output_type": "execute_result",
          "data": {
            "text/plain": [
              "STATE                          4\n",
              "SOWNING SEASON                 6\n",
              "TEMP(°C)                      25\n",
              "SOIL  TYPE                     4\n",
              "CROP'S WATER NEED(mm)         74\n",
              "COST OF PRODUCTION(Rs/Qtl)    90\n",
              "YIELD(Qtl/ha)                 58\n",
              "CROP TYPE                     10\n",
              "dtype: int64"
            ]
          },
          "metadata": {
            "tags": []
          },
          "execution_count": 35
        }
      ]
    },
    {
      "cell_type": "code",
      "metadata": {
        "colab": {
          "base_uri": "https://localhost:8080/"
        },
        "id": "dLwOcN-cm9Qj",
        "outputId": "eb78ad77-fa96-4f3e-8ce6-e8d2470a576c"
      },
      "source": [
        "data.isnull().sum()       # This will check for null values in dataset\n",
        "\n",
        "# The dataset is created manualy so there is not any null values are there."
      ],
      "execution_count": null,
      "outputs": [
        {
          "output_type": "execute_result",
          "data": {
            "text/plain": [
              "STATE                         0\n",
              "SOWNING SEASON                0\n",
              "TEMP(°C)                      0\n",
              "SOIL  TYPE                    0\n",
              "CROP'S WATER NEED(mm)         0\n",
              "COST OF PRODUCTION(Rs/Qtl)    0\n",
              "YIELD(Qtl/ha)                 0\n",
              "CROP TYPE                     0\n",
              "dtype: int64"
            ]
          },
          "metadata": {
            "tags": []
          },
          "execution_count": 36
        }
      ]
    },
    {
      "cell_type": "code",
      "metadata": {
        "colab": {
          "base_uri": "https://localhost:8080/"
        },
        "id": "vYclT1017iXB",
        "outputId": "6f17a46f-d06a-4e3b-cb0b-40732d89316c"
      },
      "source": [
        "print(\"No. of duplicate entries: \",len(data[data.duplicated()]))\n",
        "print(data)"
      ],
      "execution_count": null,
      "outputs": [
        {
          "output_type": "stream",
          "text": [
            "No. of duplicate entries:  0\n",
            "   STATE SOWNING SEASON  ...  YIELD(Qtl/ha)   CROP TYPE\n",
            "0     MP         WINTER  ...           40.0  DRY CHILLI\n",
            "1     MP         WINTER  ...           42.0  DRY CHILLI\n",
            "2     MP         SPRING  ...           43.0  DRY CHILLI\n",
            "3     MP         SPRING  ...           45.0  DRY CHILLI\n",
            "4     UP         WINTER  ...           39.0  DRY CHILLI\n",
            "..   ...            ...  ...            ...         ...\n",
            "94    MP        MONSOON  ...           53.0        RICE\n",
            "95    MP         SUMMER  ...           58.0        RICE\n",
            "96    GJ        MONSOON  ...           52.0        RICE\n",
            "97    GJ        MONSOON  ...           55.0        RICE\n",
            "98    RJ        MONSOON  ...           59.0        RICE\n",
            "\n",
            "[99 rows x 8 columns]\n"
          ],
          "name": "stdout"
        }
      ]
    },
    {
      "cell_type": "markdown",
      "metadata": {
        "id": "4lGsgjPTwP1g"
      },
      "source": [
        "# EDA: Exploratory Data Analysis"
      ]
    },
    {
      "cell_type": "code",
      "metadata": {
        "colab": {
          "base_uri": "https://localhost:8080/",
          "height": 427
        },
        "id": "Pa97jaZ_ofiD",
        "outputId": "5c64941d-dade-473c-cad1-f6355bf0c24b"
      },
      "source": [
        "# This is the correlation matrix which tells relations between different features in the dataset.\n",
        "corela = data.corr()\n",
        "sb.heatmap(corela, xticklabels = corela.columns , yticklabels = corela.columns , annot = True)"
      ],
      "execution_count": null,
      "outputs": [
        {
          "output_type": "execute_result",
          "data": {
            "text/plain": [
              "<matplotlib.axes._subplots.AxesSubplot at 0x7fec2d374d50>"
            ]
          },
          "metadata": {
            "tags": []
          },
          "execution_count": 8
        },
        {
          "output_type": "display_data",
          "data": {
            "image/png": "[encoded data removed]",
            "text/plain": [
              "<Figure size 432x288 with 2 Axes>"
            ]
          },
          "metadata": {
            "tags": [],
            "needs_background": "light"
          }
        }
      ]
    },
    {
      "cell_type": "code",
      "metadata": {
        "colab": {
          "base_uri": "https://localhost:8080/",
          "height": 743
        },
        "id": "FqI1s8IZpir3",
        "outputId": "57c7210c-e257-415f-df5e-21383e9cafaa"
      },
      "source": [
        "#This is pairplot of every two features\n",
        "sb.pairplot(data)"
      ],
      "execution_count": null,
      "outputs": [
        {
          "output_type": "execute_result",
          "data": {
            "text/plain": [
              "<seaborn.axisgrid.PairGrid at 0x7fec2ce3f090>"
            ]
          },
          "metadata": {
            "tags": []
          },
          "execution_count": 9
        },
        {
          "output_type": "display_data",
          "data": {
            "image/png": "[encoded data removed]",
            "text/plain": [
              "<Figure size 720x720 with 20 Axes>"
            ]
          },
          "metadata": {
            "tags": [],
            "needs_background": "light"
          }
        }
      ]
    },
    {
      "cell_type": "code",
      "metadata": {
        "colab": {
          "base_uri": "https://localhost:8080/",
          "height": 400
        },
        "id": "Uazug4AAqLCt",
        "outputId": "60af0028-3aef-45e7-adae-a6b74f89962a"
      },
      "source": [
        "# This is relation plot between temperature and crop's water need in different season\n",
        "sb.relplot( x = 'TEMP(°C)', y = 'CROP\\'S WATER NEED(mm)' , hue = 'SOWNING SEASON', data = data)"
      ],
      "execution_count": null,
      "outputs": [
        {
          "output_type": "execute_result",
          "data": {
            "text/plain": [
              "<seaborn.axisgrid.FacetGrid at 0x7fec21aedb90>"
            ]
          },
          "metadata": {
            "tags": []
          },
          "execution_count": 11
        },
        {
          "output_type": "display_data",
          "data": {
            "image/png": "[encoded data removed]",
            "text/plain": [
              "<Figure size 461.5x360 with 1 Axes>"
            ]
          },
          "metadata": {
            "tags": [],
            "needs_background": "light"
          }
        }
      ]
    },
    {
      "cell_type": "code",
      "metadata": {
        "colab": {
          "base_uri": "https://localhost:8080/",
          "height": 350
        },
        "id": "DsMM6TZbrdw7",
        "outputId": "7da2ce7d-dd72-41ee-87d1-166d28061acc"
      },
      "source": [
        "#Histogram of temperature\n",
        "sb.distplot(data['TEMP(°C)'])"
      ],
      "execution_count": null,
      "outputs": [
        {
          "output_type": "stream",
          "text": [
            "/usr/local/lib/python3.7/dist-packages/seaborn/distributions.py:2557: FutureWarning: `distplot` is a deprecated function and will be removed in a future version. Please adapt your code to use either `displot` (a figure-level function with similar flexibility) or `histplot` (an axes-level function for histograms).\n",
            "  warnings.warn(msg, FutureWarning)\n"
          ],
          "name": "stderr"
        },
        {
          "output_type": "execute_result",
          "data": {
            "text/plain": [
              "<matplotlib.axes._subplots.AxesSubplot at 0x7fec21afa590>"
            ]
          },
          "metadata": {
            "tags": []
          },
          "execution_count": 12
        },
        {
          "output_type": "display_data",
          "data": {
            "image/png": "[encoded data removed]",
            "text/plain": [
              "<Figure size 432x288 with 1 Axes>"
            ]
          },
          "metadata": {
            "tags": [],
            "needs_background": "light"
          }
        }
      ]
    },
    {
      "cell_type": "code",
      "metadata": {
        "colab": {
          "base_uri": "https://localhost:8080/",
          "height": 353
        },
        "id": "etnvG3H8rsl4",
        "outputId": "bb580fe6-99f9-4f84-dc72-832f9859fd6d"
      },
      "source": [
        "#Histogram of crop's water need\n",
        "sb.distplot(data[\"CROP'S WATER NEED(mm)\"])"
      ],
      "execution_count": null,
      "outputs": [
        {
          "output_type": "stream",
          "text": [
            "/usr/local/lib/python3.7/dist-packages/seaborn/distributions.py:2557: FutureWarning: `distplot` is a deprecated function and will be removed in a future version. Please adapt your code to use either `displot` (a figure-level function with similar flexibility) or `histplot` (an axes-level function for histograms).\n",
            "  warnings.warn(msg, FutureWarning)\n"
          ],
          "name": "stderr"
        },
        {
          "output_type": "execute_result",
          "data": {
            "text/plain": [
              "<matplotlib.axes._subplots.AxesSubplot at 0x7fec2192fd90>"
            ]
          },
          "metadata": {
            "tags": []
          },
          "execution_count": 14
        },
        {
          "output_type": "display_data",
          "data": {
            "image/png": "[encoded data removed]",
            "text/plain": [
              "<Figure size 432x288 with 1 Axes>"
            ]
          },
          "metadata": {
            "tags": [],
            "needs_background": "light"
          }
        }
      ]
    },
    {
      "cell_type": "code",
      "metadata": {
        "colab": {
          "base_uri": "https://localhost:8080/"
        },
        "id": "JdOmzjic7rcS",
        "outputId": "48efdb07-46c0-4180-f6d0-b1c686837f92"
      },
      "source": [
        "data.groupby(\"CROP TYPE\")[\"YIELD(Qtl/ha)\"].sum().sort_values(ascending = False)\n",
        "data.groupby(\"CROP TYPE\")[\"TEMP(°C)\"].max().sort_values(ascending = False)\n",
        "data.groupby([\"SOWNING SEASON\", \"CROP TYPE\"])[\"YIELD(Qtl/ha)\"].max()"
      ],
      "execution_count": null,
      "outputs": [
        {
          "output_type": "execute_result",
          "data": {
            "text/plain": [
              "SOWNING SEASON  CROP TYPE \n",
              "AUTUMN          GARLIC          85.0\n",
              "                GREENGRAM        5.3\n",
              "                SUGARCANE     1010.0\n",
              "                WHEAT           64.0\n",
              "MONSOON         COTTON          28.0\n",
              "                GREENGRAM        4.9\n",
              "                MILLET          26.0\n",
              "                RICE            59.0\n",
              "                SOYABEAN        28.0\n",
              "PRE-WINTER      WHEAT           69.0\n",
              "SPRING          DRY CHILLI      45.0\n",
              "                GREENGRAM        5.2\n",
              "                MILLET          29.0\n",
              "                SUGARCANE     1060.0\n",
              "SUMMER          COTTON          26.0\n",
              "                GARLIC          80.0\n",
              "                GREENGRAM        5.1\n",
              "                GROUNDNUT       27.0\n",
              "                MILLET          28.0\n",
              "                RICE            58.0\n",
              "                SOYABEAN        26.0\n",
              "WINTER          DRY CHILLI      42.0\n",
              "                RICE            54.0\n",
              "                WHEAT           67.0\n",
              "Name: YIELD(Qtl/ha), dtype: float64"
            ]
          },
          "metadata": {
            "tags": []
          },
          "execution_count": 39
        }
      ]
    },
    {
      "cell_type": "code",
      "metadata": {
        "colab": {
          "base_uri": "https://localhost:8080/",
          "height": 542
        },
        "id": "nOfpCzN_79LN",
        "outputId": "9506f7b7-6277-4b35-d6ef-c4c605d5892b"
      },
      "source": [
        "data.groupby(\"CROP TYPE\")[\"CROP'S WATER NEED(mm)\"].max().sort_values(ascending = False)\n",
        "\n",
        "import plotly.express as px\n",
        "\n",
        "fig = px.bar(data, x = \"STATE\", y = \"YIELD(Qtl/ha)\", color='SOWNING SEASON', title = \"Statewise Seasonal Total Yield\")\n",
        "fig.show()"
      ],
      "execution_count": null,
      "outputs": [
        {
          "output_type": "display_data",
          "data": {
            "text/html": [
              "<html>\n",
              "<head><meta charset=\"utf-8\" /></head>\n",
              "<body>\n",
              "    <div>\n",
              "            <script src=\"https://cdnjs.cloudflare.com/ajax/libs/mathjax/2.7.5/MathJax.js?config=TeX-AMS-MML_SVG\"></script><script type=\"text/javascript\">if (window.MathJax) {MathJax.Hub.Config({SVG: {font: \"STIX-Web\"}});}</script>\n",
              "                <script type=\"text/javascript\">window.PlotlyConfig = {MathJaxConfig: 'local'};</script>\n",
              "        <script src=\"https://cdn.plot.ly/plotly-latest.min.js\"></script>    \n",
              "            <div id=\"a0c437c8-8aa0-4dbb-9f91-f9ee268198a8\" class=\"plotly-graph-div\" style=\"height:525px; width:100%;\"></div>\n",
              "            <script type=\"text/javascript\">\n",
              "                \n",
              "                    window.PLOTLYENV=window.PLOTLYENV || {};\n",
              "                    \n",
              "                if (document.getElementById(\"a0c437c8-8aa0-4dbb-9f91-f9ee268198a8\")) {\n",
              "                    Plotly.newPlot(\n",
              "                        'a0c437c8-8aa0-4dbb-9f91-f9ee268198a8',\n",
              "                        [{\"alignmentgroup\": \"True\", \"hoverlabel\": {\"namelength\": 0}, \"hovertemplate\": \"SOWNING SEASON=WINTER<br>STATE=%{x}<br>YIELD(Qtl/ha)=%{y}\", \"legendgroup\": \"SOWNING SEASON=WINTER\", \"marker\": {\"color\": \"#636efa\"}, \"name\": \"SOWNING SEASON=WINTER\", \"offsetgroup\": \"SOWNING SEASON=WINTER\", \"orientation\": \"v\", \"showlegend\": true, \"textposition\": \"auto\", \"type\": \"bar\", \"x\": [\"MP\", \"MP\", \"UP\", \"RJ\", \"GJ\", \"UP\", \"UP\", \"RJ\", \"UP\"], \"xaxis\": \"x\", \"y\": [40.0, 42.0, 39.0, 40.0, 38.0, 60.0, 65.0, 67.0, 54.0], \"yaxis\": \"y\"}, {\"alignmentgroup\": \"True\", \"hoverlabel\": {\"namelength\": 0}, \"hovertemplate\": \"SOWNING SEASON=SPRING<br>STATE=%{x}<br>YIELD(Qtl/ha)=%{y}\", \"legendgroup\": \"SOWNING SEASON=SPRING\", \"marker\": {\"color\": \"#EF553B\"}, \"name\": \"SOWNING SEASON=SPRING\", \"offsetgroup\": \"SOWNING SEASON=SPRING\", \"orientation\": \"v\", \"showlegend\": true, \"textposition\": \"auto\", \"type\": \"bar\", \"x\": [\"MP\", \"MP\", \"UP\", \"RJ\", \"GJ\", \"UP\", \"UP\", \"RJ\", \"RJ\", \"MP\", \"MP\", \"MP\", \"MP\", \"UP\", \"GJ\"], \"xaxis\": \"x\", \"y\": [43.0, 45.0, 40.0, 35.0, 39.0, 1050.0, 1060.0, 22.0, 23.0, 29.0, 25.0, 4.0, 5.0, 5.2, 4.6], \"yaxis\": \"y\"}, {\"alignmentgroup\": \"True\", \"hoverlabel\": {\"namelength\": 0}, \"hovertemplate\": \"SOWNING SEASON=MONSOON<br>STATE=%{x}<br>YIELD(Qtl/ha)=%{y}\", \"legendgroup\": \"SOWNING SEASON=MONSOON\", \"marker\": {\"color\": \"#00cc96\"}, \"name\": \"SOWNING SEASON=MONSOON\", \"offsetgroup\": \"SOWNING SEASON=MONSOON\", \"orientation\": \"v\", \"showlegend\": true, \"textposition\": \"auto\", \"type\": \"bar\", \"x\": [\"MP\", \"MP\", \"MP\", \"MP\", \"RJ\", \"RJ\", \"RJ\", \"GJ\", \"RJ\", \"GJ\", \"GJ\", \"GJ\", \"GJ\", \"GJ\", \"RJ\", \"RJ\", \"UP\", \"UP\", \"MP\", \"MP\", \"GJ\", \"GJ\", \"RJ\"], \"xaxis\": \"x\", \"y\": [25.0, 27.0, 28.0, 25.0, 23.0, 24.0, 23.0, 25.0, 24.0, 26.0, 20.0, 23.0, 22.0, 22.0, 28.0, 23.0, 4.9, 50.0, 55.0, 53.0, 52.0, 55.0, 59.0], \"yaxis\": \"y\"}, {\"alignmentgroup\": \"True\", \"hoverlabel\": {\"namelength\": 0}, \"hovertemplate\": \"SOWNING SEASON=SUMMER<br>STATE=%{x}<br>YIELD(Qtl/ha)=%{y}\", \"legendgroup\": \"SOWNING SEASON=SUMMER\", \"marker\": {\"color\": \"#ab63fa\"}, \"name\": \"SOWNING SEASON=SUMMER\", \"offsetgroup\": \"SOWNING SEASON=SUMMER\", \"orientation\": \"v\", \"showlegend\": true, \"textposition\": \"auto\", \"type\": \"bar\", \"x\": [\"MP\", \"GJ\", \"GJ\", \"GJ\", \"GJ\", \"GJ\", \"RJ\", \"RJ\", \"RJ\", \"MP\", \"MP\", \"UP\", \"RJ\", \"UP\", \"GJ\", \"RJ\", \"UP\", \"UP\", \"GJ\", \"GJ\", \"GJ\", \"MP\", \"MP\", \"MP\", \"UP\", \"GJ\", \"UP\", \"UP\", \"MP\"], \"xaxis\": \"x\", \"y\": [26.0, 24.0, 26.0, 23.0, 25.0, 27.0, 23.0, 21.0, 20.0, 23.0, 24.0, 23.0, 70.0, 80.0, 75.0, 24.0, 21.0, 28.0, 24.0, 21.0, 25.0, 26.0, 21.0, 4.5, 5.1, 4.5, 48.0, 56.0, 58.0], \"yaxis\": \"y\"}, {\"alignmentgroup\": \"True\", \"hoverlabel\": {\"namelength\": 0}, \"hovertemplate\": \"SOWNING SEASON=AUTUMN<br>STATE=%{x}<br>YIELD(Qtl/ha)=%{y}\", \"legendgroup\": \"SOWNING SEASON=AUTUMN\", \"marker\": {\"color\": \"#FFA15A\"}, \"name\": \"SOWNING SEASON=AUTUMN\", \"offsetgroup\": \"SOWNING SEASON=AUTUMN\", \"orientation\": \"v\", \"showlegend\": true, \"textposition\": \"auto\", \"type\": \"bar\", \"x\": [\"UP\", \"UP\", \"UP\", \"GJ\", \"GJ\", \"GJ\", \"RJ\", \"MP\", \"RJ\", \"RJ\", \"RJ\", \"UP\", \"UP\", \"GJ\", \"MP\", \"MP\", \"MP\", \"GJ\"], \"xaxis\": \"x\", \"y\": [950.0, 960.0, 1000.0, 940.0, 970.0, 980.0, 1010.0, 920.0, 80.0, 85.0, 75.0, 65.0, 70.0, 70.0, 64.0, 61.0, 4.7, 5.3], \"yaxis\": \"y\"}, {\"alignmentgroup\": \"True\", \"hoverlabel\": {\"namelength\": 0}, \"hovertemplate\": \"SOWNING SEASON=PRE-WINTER<br>STATE=%{x}<br>YIELD(Qtl/ha)=%{y}\", \"legendgroup\": \"SOWNING SEASON=PRE-WINTER\", \"marker\": {\"color\": \"#19d3f3\"}, \"name\": \"SOWNING SEASON=PRE-WINTER\", \"offsetgroup\": \"SOWNING SEASON=PRE-WINTER\", \"orientation\": \"v\", \"showlegend\": true, \"textposition\": \"auto\", \"type\": \"bar\", \"x\": [\"UP\", \"UP\", \"MP\", \"RJ\", \"GJ\"], \"xaxis\": \"x\", \"y\": [65.0, 63.0, 69.0, 66.0, 62.0], \"yaxis\": \"y\"}],\n",
              "                        {\"barmode\": \"relative\", \"legend\": {\"tracegroupgap\": 0}, \"template\": {\"data\": {\"bar\": [{\"error_x\": {\"color\": \"#2a3f5f\"}, \"error_y\": {\"color\": \"#2a3f5f\"}, \"marker\": {\"line\": {\"color\": \"#E5ECF6\", \"width\": 0.5}}, \"type\": \"bar\"}], \"barpolar\": [{\"marker\": {\"line\": {\"color\": \"#E5ECF6\", \"width\": 0.5}}, \"type\": \"barpolar\"}], \"carpet\": [{\"aaxis\": {\"endlinecolor\": \"#2a3f5f\", \"gridcolor\": \"white\", \"linecolor\": \"white\", \"minorgridcolor\": \"white\", \"startlinecolor\": \"#2a3f5f\"}, \"baxis\": {\"endlinecolor\": \"#2a3f5f\", \"gridcolor\": \"white\", \"linecolor\": \"white\", \"minorgridcolor\": \"white\", \"startlinecolor\": \"#2a3f5f\"}, \"type\": \"carpet\"}], \"choropleth\": [{\"colorbar\": {\"outlinewidth\": 0, \"ticks\": \"\"}, \"type\": \"choropleth\"}], \"contour\": [{\"colorbar\": {\"outlinewidth\": 0, \"ticks\": \"\"}, \"colorscale\": [[0.0, \"#0d0887\"], [0.1111111111111111, \"#46039f\"], [0.2222222222222222, \"#7201a8\"], [0.3333333333333333, \"#9c179e\"], [0.4444444444444444, \"#bd3786\"], [0.5555555555555556, \"#d8576b\"], [0.6666666666666666, \"#ed7953\"], [0.7777777777777778, \"#fb9f3a\"], [0.8888888888888888, \"#fdca26\"], [1.0, \"#f0f921\"]], \"type\": \"contour\"}], \"contourcarpet\": [{\"colorbar\": {\"outlinewidth\": 0, \"ticks\": \"\"}, \"type\": \"contourcarpet\"}], \"heatmap\": [{\"colorbar\": {\"outlinewidth\": 0, \"ticks\": \"\"}, \"colorscale\": [[0.0, \"#0d0887\"], [0.1111111111111111, \"#46039f\"], [0.2222222222222222, \"#7201a8\"], [0.3333333333333333, \"#9c179e\"], [0.4444444444444444, \"#bd3786\"], [0.5555555555555556, \"#d8576b\"], [0.6666666666666666, \"#ed7953\"], [0.7777777777777778, \"#fb9f3a\"], [0.8888888888888888, \"#fdca26\"], [1.0, \"#f0f921\"]], \"type\": \"heatmap\"}], \"heatmapgl\": [{\"colorbar\": {\"outlinewidth\": 0, \"ticks\": \"\"}, \"colorscale\": [[0.0, \"#0d0887\"], [0.1111111111111111, \"#46039f\"], [0.2222222222222222, \"#7201a8\"], [0.3333333333333333, \"#9c179e\"], [0.4444444444444444, \"#bd3786\"], [0.5555555555555556, \"#d8576b\"], [0.6666666666666666, \"#ed7953\"], [0.7777777777777778, \"#fb9f3a\"], [0.8888888888888888, \"#fdca26\"], [1.0, \"#f0f921\"]], \"type\": \"heatmapgl\"}], \"histogram\": [{\"marker\": {\"colorbar\": {\"outlinewidth\": 0, \"ticks\": \"\"}}, \"type\": \"histogram\"}], \"histogram2d\": [{\"colorbar\": {\"outlinewidth\": 0, \"ticks\": \"\"}, \"colorscale\": [[0.0, \"#0d0887\"], [0.1111111111111111, \"#46039f\"], [0.2222222222222222, \"#7201a8\"], [0.3333333333333333, \"#9c179e\"], [0.4444444444444444, \"#bd3786\"], [0.5555555555555556, \"#d8576b\"], [0.6666666666666666, \"#ed7953\"], [0.7777777777777778, \"#fb9f3a\"], [0.8888888888888888, \"#fdca26\"], [1.0, \"#f0f921\"]], \"type\": \"histogram2d\"}], \"histogram2dcontour\": [{\"colorbar\": {\"outlinewidth\": 0, \"ticks\": \"\"}, \"colorscale\": [[0.0, \"#0d0887\"], [0.1111111111111111, \"#46039f\"], [0.2222222222222222, \"#7201a8\"], [0.3333333333333333, \"#9c179e\"], [0.4444444444444444, \"#bd3786\"], [0.5555555555555556, \"#d8576b\"], [0.6666666666666666, \"#ed7953\"], [0.7777777777777778, \"#fb9f3a\"], [0.8888888888888888, \"#fdca26\"], [1.0, \"#f0f921\"]], \"type\": \"histogram2dcontour\"}], \"mesh3d\": [{\"colorbar\": {\"outlinewidth\": 0, \"ticks\": \"\"}, \"type\": \"mesh3d\"}], \"parcoords\": [{\"line\": {\"colorbar\": {\"outlinewidth\": 0, \"ticks\": \"\"}}, \"type\": \"parcoords\"}], \"pie\": [{\"automargin\": true, \"type\": \"pie\"}], \"scatter\": [{\"marker\": {\"colorbar\": {\"outlinewidth\": 0, \"ticks\": \"\"}}, \"type\": \"scatter\"}], \"scatter3d\": [{\"line\": {\"colorbar\": {\"outlinewidth\": 0, \"ticks\": \"\"}}, \"marker\": {\"colorbar\": {\"outlinewidth\": 0, \"ticks\": \"\"}}, \"type\": \"scatter3d\"}], \"scattercarpet\": [{\"marker\": {\"colorbar\": {\"outlinewidth\": 0, \"ticks\": \"\"}}, \"type\": \"scattercarpet\"}], \"scattergeo\": [{\"marker\": {\"colorbar\": {\"outlinewidth\": 0, \"ticks\": \"\"}}, \"type\": \"scattergeo\"}], \"scattergl\": [{\"marker\": {\"colorbar\": {\"outlinewidth\": 0, \"ticks\": \"\"}}, \"type\": \"scattergl\"}], \"scattermapbox\": [{\"marker\": {\"colorbar\": {\"outlinewidth\": 0, \"ticks\": \"\"}}, \"type\": \"scattermapbox\"}], \"scatterpolar\": [{\"marker\": {\"colorbar\": {\"outlinewidth\": 0, \"ticks\": \"\"}}, \"type\": \"scatterpolar\"}], \"scatterpolargl\": [{\"marker\": {\"colorbar\": {\"outlinewidth\": 0, \"ticks\": \"\"}}, \"type\": \"scatterpolargl\"}], \"scatterternary\": [{\"marker\": {\"colorbar\": {\"outlinewidth\": 0, \"ticks\": \"\"}}, \"type\": \"scatterternary\"}], \"surface\": [{\"colorbar\": {\"outlinewidth\": 0, \"ticks\": \"\"}, \"colorscale\": [[0.0, \"#0d0887\"], [0.1111111111111111, \"#46039f\"], [0.2222222222222222, \"#7201a8\"], [0.3333333333333333, \"#9c179e\"], [0.4444444444444444, \"#bd3786\"], [0.5555555555555556, \"#d8576b\"], [0.6666666666666666, \"#ed7953\"], [0.7777777777777778, \"#fb9f3a\"], [0.8888888888888888, \"#fdca26\"], [1.0, \"#f0f921\"]], \"type\": \"surface\"}], \"table\": [{\"cells\": {\"fill\": {\"color\": \"#EBF0F8\"}, \"line\": {\"color\": \"white\"}}, \"header\": {\"fill\": {\"color\": \"#C8D4E3\"}, \"line\": {\"color\": \"white\"}}, \"type\": \"table\"}]}, \"layout\": {\"annotationdefaults\": {\"arrowcolor\": \"#2a3f5f\", \"arrowhead\": 0, \"arrowwidth\": 1}, \"coloraxis\": {\"colorbar\": {\"outlinewidth\": 0, \"ticks\": \"\"}}, \"colorscale\": {\"diverging\": [[0, \"#8e0152\"], [0.1, \"#c51b7d\"], [0.2, \"#de77ae\"], [0.3, \"#f1b6da\"], [0.4, \"#fde0ef\"], [0.5, \"#f7f7f7\"], [0.6, \"#e6f5d0\"], [0.7, \"#b8e186\"], [0.8, \"#7fbc41\"], [0.9, \"#4d9221\"], [1, \"#276419\"]], \"sequential\": [[0.0, \"#0d0887\"], [0.1111111111111111, \"#46039f\"], [0.2222222222222222, \"#7201a8\"], [0.3333333333333333, \"#9c179e\"], [0.4444444444444444, \"#bd3786\"], [0.5555555555555556, \"#d8576b\"], [0.6666666666666666, \"#ed7953\"], [0.7777777777777778, \"#fb9f3a\"], [0.8888888888888888, \"#fdca26\"], [1.0, \"#f0f921\"]], \"sequentialminus\": [[0.0, \"#0d0887\"], [0.1111111111111111, \"#46039f\"], [0.2222222222222222, \"#7201a8\"], [0.3333333333333333, \"#9c179e\"], [0.4444444444444444, \"#bd3786\"], [0.5555555555555556, \"#d8576b\"], [0.6666666666666666, \"#ed7953\"], [0.7777777777777778, \"#fb9f3a\"], [0.8888888888888888, \"#fdca26\"], [1.0, \"#f0f921\"]]}, \"colorway\": [\"#636efa\", \"#EF553B\", \"#00cc96\", \"#ab63fa\", \"#FFA15A\", \"#19d3f3\", \"#FF6692\", \"#B6E880\", \"#FF97FF\", \"#FECB52\"], \"font\": {\"color\": \"#2a3f5f\"}, \"geo\": {\"bgcolor\": \"white\", \"lakecolor\": \"white\", \"landcolor\": \"#E5ECF6\", \"showlakes\": true, \"showland\": true, \"subunitcolor\": \"white\"}, \"hoverlabel\": {\"align\": \"left\"}, \"hovermode\": \"closest\", \"mapbox\": {\"style\": \"light\"}, \"paper_bgcolor\": \"white\", \"plot_bgcolor\": \"#E5ECF6\", \"polar\": {\"angularaxis\": {\"gridcolor\": \"white\", \"linecolor\": \"white\", \"ticks\": \"\"}, \"bgcolor\": \"#E5ECF6\", \"radialaxis\": {\"gridcolor\": \"white\", \"linecolor\": \"white\", \"ticks\": \"\"}}, \"scene\": {\"xaxis\": {\"backgroundcolor\": \"#E5ECF6\", \"gridcolor\": \"white\", \"gridwidth\": 2, \"linecolor\": \"white\", \"showbackground\": true, \"ticks\": \"\", \"zerolinecolor\": \"white\"}, \"yaxis\": {\"backgroundcolor\": \"#E5ECF6\", \"gridcolor\": \"white\", \"gridwidth\": 2, \"linecolor\": \"white\", \"showbackground\": true, \"ticks\": \"\", \"zerolinecolor\": \"white\"}, \"zaxis\": {\"backgroundcolor\": \"#E5ECF6\", \"gridcolor\": \"white\", \"gridwidth\": 2, \"linecolor\": \"white\", \"showbackground\": true, \"ticks\": \"\", \"zerolinecolor\": \"white\"}}, \"shapedefaults\": {\"line\": {\"color\": \"#2a3f5f\"}}, \"ternary\": {\"aaxis\": {\"gridcolor\": \"white\", \"linecolor\": \"white\", \"ticks\": \"\"}, \"baxis\": {\"gridcolor\": \"white\", \"linecolor\": \"white\", \"ticks\": \"\"}, \"bgcolor\": \"#E5ECF6\", \"caxis\": {\"gridcolor\": \"white\", \"linecolor\": \"white\", \"ticks\": \"\"}}, \"title\": {\"x\": 0.05}, \"xaxis\": {\"automargin\": true, \"gridcolor\": \"white\", \"linecolor\": \"white\", \"ticks\": \"\", \"title\": {\"standoff\": 15}, \"zerolinecolor\": \"white\", \"zerolinewidth\": 2}, \"yaxis\": {\"automargin\": true, \"gridcolor\": \"white\", \"linecolor\": \"white\", \"ticks\": \"\", \"title\": {\"standoff\": 15}, \"zerolinecolor\": \"white\", \"zerolinewidth\": 2}}}, \"title\": {\"text\": \"Statewise Seasonal Total Yield\"}, \"xaxis\": {\"anchor\": \"y\", \"domain\": [0.0, 1.0], \"title\": {\"text\": \"STATE\"}}, \"yaxis\": {\"anchor\": \"x\", \"domain\": [0.0, 1.0], \"title\": {\"text\": \"YIELD(Qtl/ha)\"}}},\n",
              "                        {\"responsive\": true}\n",
              "                    ).then(function(){\n",
              "                            \n",
              "var gd = document.getElementById('a0c437c8-8aa0-4dbb-9f91-f9ee268198a8');\n",
              "var x = new MutationObserver(function (mutations, observer) {{\n",
              "        var display = window.getComputedStyle(gd).display;\n",
              "        if (!display || display === 'none') {{\n",
              "            console.log([gd, 'removed!']);\n",
              "            Plotly.purge(gd);\n",
              "            observer.disconnect();\n",
              "        }}\n",
              "}});\n",
              "\n",
              "// Listen for the removal of the full notebook cells\n",
              "var notebookContainer = gd.closest('#notebook-container');\n",
              "if (notebookContainer) {{\n",
              "    x.observe(notebookContainer, {childList: true});\n",
              "}}\n",
              "\n",
              "// Listen for the clearing of the current output cell\n",
              "var outputEl = gd.closest('.output');\n",
              "if (outputEl) {{\n",
              "    x.observe(outputEl, {childList: true});\n",
              "}}\n",
              "\n",
              "                        })\n",
              "                };\n",
              "                \n",
              "            </script>\n",
              "        </div>\n",
              "</body>\n",
              "</html>"
            ]
          },
          "metadata": {
            "tags": []
          }
        }
      ]
    },
    {
      "cell_type": "code",
      "metadata": {
        "colab": {
          "base_uri": "https://localhost:8080/",
          "height": 542
        },
        "id": "OD52APrk8IRj",
        "outputId": "105e374b-e0db-4927-e36b-23fe39e00c00"
      },
      "source": [
        "fig = px.bar(data, x = \"CROP TYPE\", y = \"TEMP(°C)\", color='SOIL  TYPE', title = \"Temprature vs Crop Type and Soil Type\")\n",
        "fig.show()"
      ],
      "execution_count": null,
      "outputs": [
        {
          "output_type": "display_data",
          "data": {
            "text/html": [
              "<html>\n",
              "<head><meta charset=\"utf-8\" /></head>\n",
              "<body>\n",
              "    <div>\n",
              "            <script src=\"https://cdnjs.cloudflare.com/ajax/libs/mathjax/2.7.5/MathJax.js?config=TeX-AMS-MML_SVG\"></script><script type=\"text/javascript\">if (window.MathJax) {MathJax.Hub.Config({SVG: {font: \"STIX-Web\"}});}</script>\n",
              "                <script type=\"text/javascript\">window.PlotlyConfig = {MathJaxConfig: 'local'};</script>\n",
              "        <script src=\"https://cdn.plot.ly/plotly-latest.min.js\"></script>    \n",
              "            <div id=\"fdb23186-3a0c-4b26-8fda-86ef1061bfe3\" class=\"plotly-graph-div\" style=\"height:525px; width:100%;\"></div>\n",
              "            <script type=\"text/javascript\">\n",
              "                \n",
              "                    window.PLOTLYENV=window.PLOTLYENV || {};\n",
              "                    \n",
              "                if (document.getElementById(\"fdb23186-3a0c-4b26-8fda-86ef1061bfe3\")) {\n",
              "                    Plotly.newPlot(\n",
              "                        'fdb23186-3a0c-4b26-8fda-86ef1061bfe3',\n",
              "                        [{\"alignmentgroup\": \"True\", \"hoverlabel\": {\"namelength\": 0}, \"hovertemplate\": \"SOIL  TYPE=LOAM<br>CROP TYPE=%{x}<br>TEMP(\\u00b0C)=%{y}\", \"legendgroup\": \"SOIL  TYPE=LOAM\", \"marker\": {\"color\": \"#636efa\"}, \"name\": \"SOIL  TYPE=LOAM\", \"offsetgroup\": \"SOIL  TYPE=LOAM\", \"orientation\": \"v\", \"showlegend\": true, \"textposition\": \"auto\", \"type\": \"bar\", \"x\": [\"DRY CHILLI\", \"DRY CHILLI\", \"DRY CHILLI\", \"DRY CHILLI\", \"DRY CHILLI\", \"SOYABEAN\", \"SOYABEAN\", \"SOYABEAN\", \"SOYABEAN\", \"SOYABEAN\", \"SOYABEAN\", \"SOYABEAN\", \"WHEAT\", \"WHEAT\", \"WHEAT\", \"MILLET\", \"MILLET\", \"MILLET\", \"COTTON\", \"COTTON\", \"COTTON\", \"COTTON\", \"GREENGRAM\", \"GREENGRAM\", \"GREENGRAM\", \"RICE\", \"RICE\", \"RICE\"], \"xaxis\": \"x\", \"y\": [20, 25, 22, 21, 23, 24, 24, 23, 23, 29, 24, 29, 13, 17, 12, 23, 20, 24, 19, 20, 22, 25, 20, 20, 23, 29, 27, 28], \"yaxis\": \"y\"}, {\"alignmentgroup\": \"True\", \"hoverlabel\": {\"namelength\": 0}, \"hovertemplate\": \"SOIL  TYPE=CLAY<br>CROP TYPE=%{x}<br>TEMP(\\u00b0C)=%{y}\", \"legendgroup\": \"SOIL  TYPE=CLAY\", \"marker\": {\"color\": \"#EF553B\"}, \"name\": \"SOIL  TYPE=CLAY\", \"offsetgroup\": \"SOIL  TYPE=CLAY\", \"orientation\": \"v\", \"showlegend\": true, \"textposition\": \"auto\", \"type\": \"bar\", \"x\": [\"DRY CHILLI\", \"DRY CHILLI\", \"DRY CHILLI\", \"SUGARCANE\", \"SUGARCANE\", \"SUGARCANE\", \"SUGARCANE\", \"SUGARCANE\", \"GROUNDNUT\", \"GROUNDNUT\", \"GROUNDNUT\", \"GROUNDNUT\", \"GROUNDNUT\", \"WHEAT\", \"WHEAT\", \"WHEAT\", \"WHEAT\", \"WHEAT\", \"WHEAT\", \"WHEAT\", \"GREENGRAM\", \"GREENGRAM\", \"GREENGRAM\", \"GREENGRAM\", \"RICE\", \"RICE\", \"RICE\", \"RICE\"], \"xaxis\": \"x\", \"y\": [20, 26, 25, 23, 22, 26, 26, 25, 30, 30, 29, 29, 30, 10, 11, 9, 15, 9, 14, 18, 22, 23, 22, 24, 33, 20, 29, 30], \"yaxis\": \"y\"}, {\"alignmentgroup\": \"True\", \"hoverlabel\": {\"namelength\": 0}, \"hovertemplate\": \"SOIL  TYPE=SANDY<br>CROP TYPE=%{x}<br>TEMP(\\u00b0C)=%{y}\", \"legendgroup\": \"SOIL  TYPE=SANDY\", \"marker\": {\"color\": \"#00cc96\"}, \"name\": \"SOIL  TYPE=SANDY\", \"offsetgroup\": \"SOIL  TYPE=SANDY\", \"orientation\": \"v\", \"showlegend\": true, \"textposition\": \"auto\", \"type\": \"bar\", \"x\": [\"DRY CHILLI\", \"DRY CHILLI\", \"SOYABEAN\", \"SOYABEAN\", \"SOYABEAN\", \"SUGARCANE\", \"SUGARCANE\", \"SUGARCANE\", \"SUGARCANE\", \"SUGARCANE\", \"GROUNDNUT\", \"GROUNDNUT\", \"GROUNDNUT\", \"GROUNDNUT\", \"GROUNDNUT\", \"GARLIC\", \"GARLIC\", \"GARLIC\", \"GARLIC\", \"GARLIC\", \"GARLIC\", \"GARLIC\", \"GARLIC\", \"GARLIC\", \"MILLET\", \"MILLET\", \"MILLET\", \"MILLET\", \"MILLET\", \"COTTON\", \"COTTON\", \"COTTON\", \"COTTON\", \"COTTON\", \"GREENGRAM\", \"GREENGRAM\", \"GREENGRAM\"], \"xaxis\": \"x\", \"y\": [25, 27, 25, 25, 25, 22, 24, 23, 27, 27, 30, 29, 30, 30, 29, 30, 29, 30, 30, 25, 26, 25, 26, 26, 33, 30, 29, 26, 35, 25, 28, 27, 26, 25, 25, 23, 25], \"yaxis\": \"y\"}, {\"alignmentgroup\": \"True\", \"hoverlabel\": {\"namelength\": 0}, \"hovertemplate\": \"SOIL  TYPE=SILT<br>CROP TYPE=%{x}<br>TEMP(\\u00b0C)=%{y}\", \"legendgroup\": \"SOIL  TYPE=SILT\", \"marker\": {\"color\": \"#ab63fa\"}, \"name\": \"SOIL  TYPE=SILT\", \"offsetgroup\": \"SOIL  TYPE=SILT\", \"orientation\": \"v\", \"showlegend\": true, \"textposition\": \"auto\", \"type\": \"bar\", \"x\": [\"MILLET\", \"MILLET\", \"COTTON\", \"RICE\", \"RICE\", \"RICE\"], \"xaxis\": \"x\", \"y\": [31, 32, 23, 22, 30, 31], \"yaxis\": \"y\"}],\n",
              "                        {\"barmode\": \"relative\", \"legend\": {\"tracegroupgap\": 0}, \"template\": {\"data\": {\"bar\": [{\"error_x\": {\"color\": \"#2a3f5f\"}, \"error_y\": {\"color\": \"#2a3f5f\"}, \"marker\": {\"line\": {\"color\": \"#E5ECF6\", \"width\": 0.5}}, \"type\": \"bar\"}], \"barpolar\": [{\"marker\": {\"line\": {\"color\": \"#E5ECF6\", \"width\": 0.5}}, \"type\": \"barpolar\"}], \"carpet\": [{\"aaxis\": {\"endlinecolor\": \"#2a3f5f\", \"gridcolor\": \"white\", \"linecolor\": \"white\", \"minorgridcolor\": \"white\", \"startlinecolor\": \"#2a3f5f\"}, \"baxis\": {\"endlinecolor\": \"#2a3f5f\", \"gridcolor\": \"white\", \"linecolor\": \"white\", \"minorgridcolor\": \"white\", \"startlinecolor\": \"#2a3f5f\"}, \"type\": \"carpet\"}], \"choropleth\": [{\"colorbar\": {\"outlinewidth\": 0, \"ticks\": \"\"}, \"type\": \"choropleth\"}], \"contour\": [{\"colorbar\": {\"outlinewidth\": 0, \"ticks\": \"\"}, \"colorscale\": [[0.0, \"#0d0887\"], [0.1111111111111111, \"#46039f\"], [0.2222222222222222, \"#7201a8\"], [0.3333333333333333, \"#9c179e\"], [0.4444444444444444, \"#bd3786\"], [0.5555555555555556, \"#d8576b\"], [0.6666666666666666, \"#ed7953\"], [0.7777777777777778, \"#fb9f3a\"], [0.8888888888888888, \"#fdca26\"], [1.0, \"#f0f921\"]], \"type\": \"contour\"}], \"contourcarpet\": [{\"colorbar\": {\"outlinewidth\": 0, \"ticks\": \"\"}, \"type\": \"contourcarpet\"}], \"heatmap\": [{\"colorbar\": {\"outlinewidth\": 0, \"ticks\": \"\"}, \"colorscale\": [[0.0, \"#0d0887\"], [0.1111111111111111, \"#46039f\"], [0.2222222222222222, \"#7201a8\"], [0.3333333333333333, \"#9c179e\"], [0.4444444444444444, \"#bd3786\"], [0.5555555555555556, \"#d8576b\"], [0.6666666666666666, \"#ed7953\"], [0.7777777777777778, \"#fb9f3a\"], [0.8888888888888888, \"#fdca26\"], [1.0, \"#f0f921\"]], \"type\": \"heatmap\"}], \"heatmapgl\": [{\"colorbar\": {\"outlinewidth\": 0, \"ticks\": \"\"}, \"colorscale\": [[0.0, \"#0d0887\"], [0.1111111111111111, \"#46039f\"], [0.2222222222222222, \"#7201a8\"], [0.3333333333333333, \"#9c179e\"], [0.4444444444444444, \"#bd3786\"], [0.5555555555555556, \"#d8576b\"], [0.6666666666666666, \"#ed7953\"], [0.7777777777777778, \"#fb9f3a\"], [0.8888888888888888, \"#fdca26\"], [1.0, \"#f0f921\"]], \"type\": \"heatmapgl\"}], \"histogram\": [{\"marker\": {\"colorbar\": {\"outlinewidth\": 0, \"ticks\": \"\"}}, \"type\": \"histogram\"}], \"histogram2d\": [{\"colorbar\": {\"outlinewidth\": 0, \"ticks\": \"\"}, \"colorscale\": [[0.0, \"#0d0887\"], [0.1111111111111111, \"#46039f\"], [0.2222222222222222, \"#7201a8\"], [0.3333333333333333, \"#9c179e\"], [0.4444444444444444, \"#bd3786\"], [0.5555555555555556, \"#d8576b\"], [0.6666666666666666, \"#ed7953\"], [0.7777777777777778, \"#fb9f3a\"], [0.8888888888888888, \"#fdca26\"], [1.0, \"#f0f921\"]], \"type\": \"histogram2d\"}], \"histogram2dcontour\": [{\"colorbar\": {\"outlinewidth\": 0, \"ticks\": \"\"}, \"colorscale\": [[0.0, \"#0d0887\"], [0.1111111111111111, \"#46039f\"], [0.2222222222222222, \"#7201a8\"], [0.3333333333333333, \"#9c179e\"], [0.4444444444444444, \"#bd3786\"], [0.5555555555555556, \"#d8576b\"], [0.6666666666666666, \"#ed7953\"], [0.7777777777777778, \"#fb9f3a\"], [0.8888888888888888, \"#fdca26\"], [1.0, \"#f0f921\"]], \"type\": \"histogram2dcontour\"}], \"mesh3d\": [{\"colorbar\": {\"outlinewidth\": 0, \"ticks\": \"\"}, \"type\": \"mesh3d\"}], \"parcoords\": [{\"line\": {\"colorbar\": {\"outlinewidth\": 0, \"ticks\": \"\"}}, \"type\": \"parcoords\"}], \"pie\": [{\"automargin\": true, \"type\": \"pie\"}], \"scatter\": [{\"marker\": {\"colorbar\": {\"outlinewidth\": 0, \"ticks\": \"\"}}, \"type\": \"scatter\"}], \"scatter3d\": [{\"line\": {\"colorbar\": {\"outlinewidth\": 0, \"ticks\": \"\"}}, \"marker\": {\"colorbar\": {\"outlinewidth\": 0, \"ticks\": \"\"}}, \"type\": \"scatter3d\"}], \"scattercarpet\": [{\"marker\": {\"colorbar\": {\"outlinewidth\": 0, \"ticks\": \"\"}}, \"type\": \"scattercarpet\"}], \"scattergeo\": [{\"marker\": {\"colorbar\": {\"outlinewidth\": 0, \"ticks\": \"\"}}, \"type\": \"scattergeo\"}], \"scattergl\": [{\"marker\": {\"colorbar\": {\"outlinewidth\": 0, \"ticks\": \"\"}}, \"type\": \"scattergl\"}], \"scattermapbox\": [{\"marker\": {\"colorbar\": {\"outlinewidth\": 0, \"ticks\": \"\"}}, \"type\": \"scattermapbox\"}], \"scatterpolar\": [{\"marker\": {\"colorbar\": {\"outlinewidth\": 0, \"ticks\": \"\"}}, \"type\": \"scatterpolar\"}], \"scatterpolargl\": [{\"marker\": {\"colorbar\": {\"outlinewidth\": 0, \"ticks\": \"\"}}, \"type\": \"scatterpolargl\"}], \"scatterternary\": [{\"marker\": {\"colorbar\": {\"outlinewidth\": 0, \"ticks\": \"\"}}, \"type\": \"scatterternary\"}], \"surface\": [{\"colorbar\": {\"outlinewidth\": 0, \"ticks\": \"\"}, \"colorscale\": [[0.0, \"#0d0887\"], [0.1111111111111111, \"#46039f\"], [0.2222222222222222, \"#7201a8\"], [0.3333333333333333, \"#9c179e\"], [0.4444444444444444, \"#bd3786\"], [0.5555555555555556, \"#d8576b\"], [0.6666666666666666, \"#ed7953\"], [0.7777777777777778, \"#fb9f3a\"], [0.8888888888888888, \"#fdca26\"], [1.0, \"#f0f921\"]], \"type\": \"surface\"}], \"table\": [{\"cells\": {\"fill\": {\"color\": \"#EBF0F8\"}, \"line\": {\"color\": \"white\"}}, \"header\": {\"fill\": {\"color\": \"#C8D4E3\"}, \"line\": {\"color\": \"white\"}}, \"type\": \"table\"}]}, \"layout\": {\"annotationdefaults\": {\"arrowcolor\": \"#2a3f5f\", \"arrowhead\": 0, \"arrowwidth\": 1}, \"coloraxis\": {\"colorbar\": {\"outlinewidth\": 0, \"ticks\": \"\"}}, \"colorscale\": {\"diverging\": [[0, \"#8e0152\"], [0.1, \"#c51b7d\"], [0.2, \"#de77ae\"], [0.3, \"#f1b6da\"], [0.4, \"#fde0ef\"], [0.5, \"#f7f7f7\"], [0.6, \"#e6f5d0\"], [0.7, \"#b8e186\"], [0.8, \"#7fbc41\"], [0.9, \"#4d9221\"], [1, \"#276419\"]], \"sequential\": [[0.0, \"#0d0887\"], [0.1111111111111111, \"#46039f\"], [0.2222222222222222, \"#7201a8\"], [0.3333333333333333, \"#9c179e\"], [0.4444444444444444, \"#bd3786\"], [0.5555555555555556, \"#d8576b\"], [0.6666666666666666, \"#ed7953\"], [0.7777777777777778, \"#fb9f3a\"], [0.8888888888888888, \"#fdca26\"], [1.0, \"#f0f921\"]], \"sequentialminus\": [[0.0, \"#0d0887\"], [0.1111111111111111, \"#46039f\"], [0.2222222222222222, \"#7201a8\"], [0.3333333333333333, \"#9c179e\"], [0.4444444444444444, \"#bd3786\"], [0.5555555555555556, \"#d8576b\"], [0.6666666666666666, \"#ed7953\"], [0.7777777777777778, \"#fb9f3a\"], [0.8888888888888888, \"#fdca26\"], [1.0, \"#f0f921\"]]}, \"colorway\": [\"#636efa\", \"#EF553B\", \"#00cc96\", \"#ab63fa\", \"#FFA15A\", \"#19d3f3\", \"#FF6692\", \"#B6E880\", \"#FF97FF\", \"#FECB52\"], \"font\": {\"color\": \"#2a3f5f\"}, \"geo\": {\"bgcolor\": \"white\", \"lakecolor\": \"white\", \"landcolor\": \"#E5ECF6\", \"showlakes\": true, \"showland\": true, \"subunitcolor\": \"white\"}, \"hoverlabel\": {\"align\": \"left\"}, \"hovermode\": \"closest\", \"mapbox\": {\"style\": \"light\"}, \"paper_bgcolor\": \"white\", \"plot_bgcolor\": \"#E5ECF6\", \"polar\": {\"angularaxis\": {\"gridcolor\": \"white\", \"linecolor\": \"white\", \"ticks\": \"\"}, \"bgcolor\": \"#E5ECF6\", \"radialaxis\": {\"gridcolor\": \"white\", \"linecolor\": \"white\", \"ticks\": \"\"}}, \"scene\": {\"xaxis\": {\"backgroundcolor\": \"#E5ECF6\", \"gridcolor\": \"white\", \"gridwidth\": 2, \"linecolor\": \"white\", \"showbackground\": true, \"ticks\": \"\", \"zerolinecolor\": \"white\"}, \"yaxis\": {\"backgroundcolor\": \"#E5ECF6\", \"gridcolor\": \"white\", \"gridwidth\": 2, \"linecolor\": \"white\", \"showbackground\": true, \"ticks\": \"\", \"zerolinecolor\": \"white\"}, \"zaxis\": {\"backgroundcolor\": \"#E5ECF6\", \"gridcolor\": \"white\", \"gridwidth\": 2, \"linecolor\": \"white\", \"showbackground\": true, \"ticks\": \"\", \"zerolinecolor\": \"white\"}}, \"shapedefaults\": {\"line\": {\"color\": \"#2a3f5f\"}}, \"ternary\": {\"aaxis\": {\"gridcolor\": \"white\", \"linecolor\": \"white\", \"ticks\": \"\"}, \"baxis\": {\"gridcolor\": \"white\", \"linecolor\": \"white\", \"ticks\": \"\"}, \"bgcolor\": \"#E5ECF6\", \"caxis\": {\"gridcolor\": \"white\", \"linecolor\": \"white\", \"ticks\": \"\"}}, \"title\": {\"x\": 0.05}, \"xaxis\": {\"automargin\": true, \"gridcolor\": \"white\", \"linecolor\": \"white\", \"ticks\": \"\", \"title\": {\"standoff\": 15}, \"zerolinecolor\": \"white\", \"zerolinewidth\": 2}, \"yaxis\": {\"automargin\": true, \"gridcolor\": \"white\", \"linecolor\": \"white\", \"ticks\": \"\", \"title\": {\"standoff\": 15}, \"zerolinecolor\": \"white\", \"zerolinewidth\": 2}}}, \"title\": {\"text\": \"Temprature vs Crop Type and Soil Type\"}, \"xaxis\": {\"anchor\": \"y\", \"domain\": [0.0, 1.0], \"title\": {\"text\": \"CROP TYPE\"}}, \"yaxis\": {\"anchor\": \"x\", \"domain\": [0.0, 1.0], \"title\": {\"text\": \"TEMP(\\u00b0C)\"}}},\n",
              "                        {\"responsive\": true}\n",
              "                    ).then(function(){\n",
              "                            \n",
              "var gd = document.getElementById('fdb23186-3a0c-4b26-8fda-86ef1061bfe3');\n",
              "var x = new MutationObserver(function (mutations, observer) {{\n",
              "        var display = window.getComputedStyle(gd).display;\n",
              "        if (!display || display === 'none') {{\n",
              "            console.log([gd, 'removed!']);\n",
              "            Plotly.purge(gd);\n",
              "            observer.disconnect();\n",
              "        }}\n",
              "}});\n",
              "\n",
              "// Listen for the removal of the full notebook cells\n",
              "var notebookContainer = gd.closest('#notebook-container');\n",
              "if (notebookContainer) {{\n",
              "    x.observe(notebookContainer, {childList: true});\n",
              "}}\n",
              "\n",
              "// Listen for the clearing of the current output cell\n",
              "var outputEl = gd.closest('.output');\n",
              "if (outputEl) {{\n",
              "    x.observe(outputEl, {childList: true});\n",
              "}}\n",
              "\n",
              "                        })\n",
              "                };\n",
              "                \n",
              "            </script>\n",
              "        </div>\n",
              "</body>\n",
              "</html>"
            ]
          },
          "metadata": {
            "tags": []
          }
        }
      ]
    },
    {
      "cell_type": "markdown",
      "metadata": {
        "id": "pOXUNkYzxfJX"
      },
      "source": [
        "# We will transfer the string values into integer values using OneHotEncoder"
      ]
    },
    {
      "cell_type": "code",
      "metadata": {
        "id": "9ldWF52nsLtu"
      },
      "source": [
        "#X = data.iloc[:,:-1].values\n",
        "Y = data.iloc[: , -1].values\n",
        "data1 = data.drop(['CROP TYPE'], axis = 1)\n",
        "#print(X)\n",
        "#print(Y)"
      ],
      "execution_count": null,
      "outputs": []
    },
    {
      "cell_type": "code",
      "metadata": {
        "colab": {
          "base_uri": "https://localhost:8080/"
        },
        "id": "un5yCSi-x0Pc",
        "outputId": "f3736136-fe4a-410f-9011-1e93f0dda7a7"
      },
      "source": [
        "#using onehotencoder converting string values into integer\n",
        "from sklearn.compose import make_column_transformer\n",
        "from sklearn.preprocessing import OneHotEncoder\n",
        "ohe = OneHotEncoder(sparse=False)\n",
        "ohe.fit_transform(data[['STATE']])\n",
        "ohe.fit_transform(data[['SOWNING SEASON']])\n",
        "ohe.fit_transform(data[['SOIL  TYPE']])\n",
        "mct = make_column_transformer( (OneHotEncoder() , ['STATE','SOWNING SEASON','SOIL  TYPE']), remainder = 'passthrough')\n",
        "X = mct.fit_transform(data1)\n",
        "#print(data1)\n",
        "print(X)"
      ],
      "execution_count": null,
      "outputs": [
        {
          "output_type": "stream",
          "text": [
            "[[0.000e+00 1.000e+00 0.000e+00 ... 9.000e+02 4.000e+02 4.000e+01]\n",
            " [0.000e+00 1.000e+00 0.000e+00 ... 8.500e+02 4.500e+02 4.200e+01]\n",
            " [0.000e+00 1.000e+00 0.000e+00 ... 9.100e+02 5.000e+02 4.300e+01]\n",
            " ...\n",
            " [1.000e+00 0.000e+00 0.000e+00 ... 1.350e+03 1.555e+03 5.200e+01]\n",
            " [1.000e+00 0.000e+00 0.000e+00 ... 1.250e+03 1.540e+03 5.500e+01]\n",
            " [0.000e+00 0.000e+00 1.000e+00 ... 1.110e+03 1.590e+03 5.900e+01]]\n"
          ],
          "name": "stdout"
        }
      ]
    },
    {
      "cell_type": "code",
      "metadata": {
        "id": "9HuA5sr53rVw"
      },
      "source": [
        "from sklearn.preprocessing import StandardScaler\n",
        "sc = StandardScaler()\n",
        "X = sc.fit_transform(X)"
      ],
      "execution_count": null,
      "outputs": []
    },
    {
      "cell_type": "code",
      "metadata": {
        "colab": {
          "base_uri": "https://localhost:8080/"
        },
        "id": "bGa_1uDix4hF",
        "outputId": "e8e8bb24-f65d-4918-b88b-86738d3dc10c"
      },
      "source": [
        "# Using LabelEncoder labeling the target values\n",
        "from sklearn.preprocessing import LabelEncoder\n",
        "le = LabelEncoder()\n",
        "Y = le.fit_transform(Y)\n",
        "print(Y)"
      ],
      "execution_count": null,
      "outputs": [
        {
          "output_type": "stream",
          "text": [
            "[1 1 1 1 1 1 1 1 1 1 7 7 7 7 7 7 7 7 7 7 8 8 8 8 8 8 8 8 8 8 4 4 4 4 4 4 4\n",
            " 4 4 4 2 2 2 2 2 2 2 2 2 9 9 9 9 9 9 9 9 9 9 5 5 5 5 5 5 5 5 5 5 0 0 0 0 0\n",
            " 0 0 0 0 0 3 3 3 3 3 3 3 3 3 3 6 6 6 6 6 6 6 6 6 6]\n"
          ],
          "name": "stdout"
        }
      ]
    },
    {
      "cell_type": "markdown",
      "metadata": {
        "id": "Xet0q5kNy5Lr"
      },
      "source": [
        "## Model Approaches"
      ]
    },
    {
      "cell_type": "markdown",
      "metadata": {
        "id": "pBEWNC1jzDKE"
      },
      "source": [
        "1. KNN: K - Nearest Neighbours"
      ]
    },
    {
      "cell_type": "code",
      "metadata": {
        "colab": {
          "base_uri": "https://localhost:8080/"
        },
        "id": "9GdLWrGG0odf",
        "outputId": "8afbfa90-f3d4-41bb-f369-181bdf0b1e7d"
      },
      "source": [
        "from sklearn.neighbors import KNeighborsClassifier\n",
        "classifier = KNeighborsClassifier(n_neighbors = 5, metric = 'minkowski', p = 2)\n",
        "classifier.fit(X, Y)\n",
        "print(classifier.predict(sc.transform([[0,0,1,0,0,0,0,1,0,0,26,0,0,1,0,2500,250,1010]])))"
      ],
      "execution_count": null,
      "outputs": [
        {
          "output_type": "stream",
          "text": [
            "[8]\n"
          ],
          "name": "stdout"
        }
      ]
    },
    {
      "cell_type": "markdown",
      "metadata": {
        "id": "6RIpw0cXzdGw"
      },
      "source": [
        "2. Support Vector Machine"
      ]
    },
    {
      "cell_type": "code",
      "metadata": {
        "colab": {
          "base_uri": "https://localhost:8080/"
        },
        "id": "AYXUqt92pC4C",
        "outputId": "91e6b733-6063-4f57-e5f3-25351af2c68e"
      },
      "source": [
        "from sklearn.svm import SVC\n",
        "classifier = SVC(kernel = 'linear', random_state = 0)\n",
        "classifier.fit(X, Y)\n",
        "print(classifier.predict(sc.transform([[0,0,1,0,0,0,0,1,0,0,26,0,0,1,0,2500,250,1010]])))"
      ],
      "execution_count": null,
      "outputs": [
        {
          "output_type": "stream",
          "text": [
            "[8]\n"
          ],
          "name": "stdout"
        }
      ]
    },
    {
      "cell_type": "markdown",
      "metadata": {
        "id": "8QS-fSPk5JT-"
      },
      "source": [
        "3. Naive Bayes"
      ]
    },
    {
      "cell_type": "code",
      "metadata": {
        "colab": {
          "base_uri": "https://localhost:8080/"
        },
        "id": "56BG3xFQp_qt",
        "outputId": "eb1d7759-9fbe-4dd0-a81c-9fd55dc67e00"
      },
      "source": [
        "from sklearn.naive_bayes import GaussianNB\n",
        "classifier = GaussianNB()\n",
        "classifier.fit(X, Y)\n",
        "print(classifier.predict(sc.transform([[0,0,1,0,0,0,0,1,0,0,26,0,0,1,0,2500,250,1010]])))"
      ],
      "execution_count": null,
      "outputs": [
        {
          "output_type": "stream",
          "text": [
            "[6]\n"
          ],
          "name": "stdout"
        }
      ]
    },
    {
      "cell_type": "markdown",
      "metadata": {
        "id": "xAxA40zl5ZrK"
      },
      "source": [
        "4. Decision Tree"
      ]
    },
    {
      "cell_type": "code",
      "metadata": {
        "colab": {
          "base_uri": "https://localhost:8080/"
        },
        "id": "oij9BNA_qXQb",
        "outputId": "aa2b4af0-a761-4971-c293-0fdd5ddd13bc"
      },
      "source": [
        "from sklearn.tree import DecisionTreeClassifier\n",
        "classifier = DecisionTreeClassifier(criterion = 'entropy', random_state = 0)\n",
        "classifier.fit(X,Y)\n",
        "print(classifier.predict(sc.transform([[0,0,1,0,0,0,0,1,0,0,26,0,0,1,0,2500,250,1010]])))"
      ],
      "execution_count": null,
      "outputs": [
        {
          "output_type": "stream",
          "text": [
            "[8]\n"
          ],
          "name": "stdout"
        }
      ]
    },
    {
      "cell_type": "markdown",
      "metadata": {
        "id": "cp5yZZQB5ijM"
      },
      "source": [
        "5. Random forest"
      ]
    },
    {
      "cell_type": "code",
      "metadata": {
        "colab": {
          "base_uri": "https://localhost:8080/"
        },
        "id": "uBmJGZJCqvEh",
        "outputId": "244d65ab-2bec-4776-af32-5afb4a76c825"
      },
      "source": [
        "from sklearn.ensemble import RandomForestClassifier\n",
        "classifier = RandomForestClassifier(n_estimators = 10, criterion = 'entropy', random_state = 0)\n",
        "classifier.fit(X, Y)\n",
        "print(classifier.predict(sc.transform([[0,0,1,0,0,0,0,1,0,0,26,0,0,1,0,2500,250,1010]])))"
      ],
      "execution_count": null,
      "outputs": [
        {
          "output_type": "stream",
          "text": [
            "[8]\n"
          ],
          "name": "stdout"
        }
      ]
    },
    {
      "cell_type": "markdown",
      "metadata": {
        "id": "ny3BlyI45pZe"
      },
      "source": [
        "6. Logistic Regression"
      ]
    },
    {
      "cell_type": "code",
      "metadata": {
        "colab": {
          "base_uri": "https://localhost:8080/"
        },
        "id": "L2fWQDHJLlkg",
        "outputId": "189fca34-5ca4-429a-807c-d0201246caab"
      },
      "source": [
        "from sklearn.linear_model import LogisticRegression\n",
        "classifier = LogisticRegression(random_state = 0)\n",
        "classifier.fit(X,Y)\n",
        "print(classifier.predict(sc.transform([[0,0,1,0,0,0,0,1,0,0,26,0,0,1,0,2500,250,1010]])))"
      ],
      "execution_count": null,
      "outputs": [
        {
          "output_type": "stream",
          "text": [
            "[4]\n"
          ],
          "name": "stdout"
        }
      ]
    },
    {
      "cell_type": "markdown",
      "metadata": {
        "id": "pK-rFbu153Mt"
      },
      "source": [
        "7. Stochastic Gradient Decent"
      ]
    },
    {
      "cell_type": "code",
      "metadata": {
        "colab": {
          "base_uri": "https://localhost:8080/"
        },
        "id": "tKFK1q7H3rco",
        "outputId": "de732be5-f158-48dd-b267-5c51afb1c792"
      },
      "source": [
        "from sklearn.linear_model import SGDClassifier\n",
        "classifier = SGDClassifier(loss = 'modified_huber', shuffle = True, random_state = 101)\n",
        "classifier.fit(X,Y)\n",
        "print(classifier.predict(sc.transform([[0,0,1,0,0,0,0,1,0,0,26,0,0,1,0,2500,250,1010]])))"
      ],
      "execution_count": null,
      "outputs": [
        {
          "output_type": "stream",
          "text": [
            "[6]\n"
          ],
          "name": "stdout"
        }
      ]
    }
  ]
}