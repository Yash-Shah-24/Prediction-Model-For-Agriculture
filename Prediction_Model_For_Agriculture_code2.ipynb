{
  "nbformat": 4,
  "nbformat_minor": 0,
  "metadata": {
    "colab": {
      "name": "capstone_code2_Group5.ipynb",
      "provenance": [],
      "collapsed_sections": [],
      "toc_visible": true
    },
    "kernelspec": {
      "name": "python3",
      "display_name": "Python 3"
    },
    "language_info": {
      "name": "python"
    }
  },
  "cells": [
    {
      "cell_type": "markdown",
      "metadata": {
        "id": "1IeFIrOOn790"
      },
      "source": [
        "\n",
        "1.   Karan Patel 100812891\n",
        "1.   Munjal Patel 100810810\n",
        "2.   Yash Shah 100812896\n",
        "\n"
      ]
    },
    {
      "cell_type": "code",
      "metadata": {
        "colab": {
          "base_uri": "https://localhost:8080/",
          "height": 195
        },
        "id": "PqBOXuMFbZUe",
        "outputId": "ee457ea2-5670-49cd-b8b3-a0c8f5caeb0d"
      },
      "source": [
        "import pandas as pd\n",
        "data = pd .read_csv(\"dataset_agri_1_final.csv\")\n",
        "data.head()"
      ],
      "execution_count": 2,
      "outputs": [
        {
          "output_type": "execute_result",
          "data": {
            "text/html": [
              "<div>\n",
              "<style scoped>\n",
              "    .dataframe tbody tr th:only-of-type {\n",
              "        vertical-align: middle;\n",
              "    }\n",
              "\n",
              "    .dataframe tbody tr th {\n",
              "        vertical-align: top;\n",
              "    }\n",
              "\n",
              "    .dataframe thead th {\n",
              "        text-align: right;\n",
              "    }\n",
              "</style>\n",
              "<table border=\"1\" class=\"dataframe\">\n",
              "  <thead>\n",
              "    <tr style=\"text-align: right;\">\n",
              "      <th></th>\n",
              "      <th>STATE</th>\n",
              "      <th>SOWNING SEASON</th>\n",
              "      <th>TEMP(°C)</th>\n",
              "      <th>SOIL  TYPE</th>\n",
              "      <th>CROP'S WATER NEED(mm)</th>\n",
              "      <th>COST OF PRODUCTION(Rs/Qtl)</th>\n",
              "      <th>YIELD(Qtl/ha)</th>\n",
              "      <th>CROP TYPE</th>\n",
              "    </tr>\n",
              "  </thead>\n",
              "  <tbody>\n",
              "    <tr>\n",
              "      <th>0</th>\n",
              "      <td>MP</td>\n",
              "      <td>WINTER</td>\n",
              "      <td>20</td>\n",
              "      <td>LOAM</td>\n",
              "      <td>900</td>\n",
              "      <td>400</td>\n",
              "      <td>40</td>\n",
              "      <td>DRY CHILLI</td>\n",
              "    </tr>\n",
              "    <tr>\n",
              "      <th>1</th>\n",
              "      <td>MP</td>\n",
              "      <td>WINTER</td>\n",
              "      <td>20</td>\n",
              "      <td>CLAY</td>\n",
              "      <td>850</td>\n",
              "      <td>450</td>\n",
              "      <td>42</td>\n",
              "      <td>DRY CHILLI</td>\n",
              "    </tr>\n",
              "    <tr>\n",
              "      <th>2</th>\n",
              "      <td>MP</td>\n",
              "      <td>SPRING</td>\n",
              "      <td>25</td>\n",
              "      <td>LOAM</td>\n",
              "      <td>910</td>\n",
              "      <td>500</td>\n",
              "      <td>43</td>\n",
              "      <td>DRY CHILLI</td>\n",
              "    </tr>\n",
              "    <tr>\n",
              "      <th>3</th>\n",
              "      <td>MP</td>\n",
              "      <td>SPRING</td>\n",
              "      <td>25</td>\n",
              "      <td>SANDY</td>\n",
              "      <td>1000</td>\n",
              "      <td>490</td>\n",
              "      <td>45</td>\n",
              "      <td>DRY CHILLI</td>\n",
              "    </tr>\n",
              "    <tr>\n",
              "      <th>4</th>\n",
              "      <td>UP</td>\n",
              "      <td>WINTER</td>\n",
              "      <td>22</td>\n",
              "      <td>LOAM</td>\n",
              "      <td>860</td>\n",
              "      <td>590</td>\n",
              "      <td>39</td>\n",
              "      <td>DRY CHILLI</td>\n",
              "    </tr>\n",
              "  </tbody>\n",
              "</table>\n",
              "</div>"
            ],
            "text/plain": [
              "  STATE SOWNING SEASON  ...  YIELD(Qtl/ha)   CROP TYPE\n",
              "0    MP         WINTER  ...             40  DRY CHILLI\n",
              "1    MP         WINTER  ...             42  DRY CHILLI\n",
              "2    MP         SPRING  ...             43  DRY CHILLI\n",
              "3    MP         SPRING  ...             45  DRY CHILLI\n",
              "4    UP         WINTER  ...             39  DRY CHILLI\n",
              "\n",
              "[5 rows x 8 columns]"
            ]
          },
          "metadata": {
            "tags": []
          },
          "execution_count": 2
        }
      ]
    },
    {
      "cell_type": "code",
      "metadata": {
        "colab": {
          "base_uri": "https://localhost:8080/"
        },
        "id": "RNUNOaHZjhct",
        "outputId": "cec0c89a-d9dd-4b55-f2b4-b322a8ad624e"
      },
      "source": [
        "data.nunique()"
      ],
      "execution_count": 3,
      "outputs": [
        {
          "output_type": "execute_result",
          "data": {
            "text/plain": [
              "STATE                          4\n",
              "SOWNING SEASON                 6\n",
              "TEMP(°C)                      25\n",
              "SOIL  TYPE                     4\n",
              "CROP'S WATER NEED(mm)         74\n",
              "COST OF PRODUCTION(Rs/Qtl)    90\n",
              "YIELD(Qtl/ha)                 51\n",
              "CROP TYPE                     10\n",
              "dtype: int64"
            ]
          },
          "metadata": {
            "tags": []
          },
          "execution_count": 3
        }
      ]
    },
    {
      "cell_type": "code",
      "metadata": {
        "id": "3bfLIZCgljqH"
      },
      "source": [
        "from sklearn.preprocessing import LabelEncoder\n",
        "le_state = LabelEncoder()\n",
        "le_sowingseason = LabelEncoder()\n",
        "le_soiltype = LabelEncoder()\n",
        "le_croptype = LabelEncoder()\n"
      ],
      "execution_count": 4,
      "outputs": []
    },
    {
      "cell_type": "code",
      "metadata": {
        "colab": {
          "base_uri": "https://localhost:8080/",
          "height": 313
        },
        "id": "jlQfr6XYmTHy",
        "outputId": "9bc75d73-18b9-45a0-d574-a1acab82140a"
      },
      "source": [
        "data['state_n'] = le_state.fit_transform(data['STATE'])\n",
        "data['sowing_season_n'] = le_state.fit_transform(data['SOWNING SEASON'])\n",
        "data['soiltype_n'] = le_state.fit_transform(data['SOIL  TYPE'])\n",
        "data['croptype_n'] = le_state.fit_transform(data['CROP TYPE'])\n",
        "data.head()"
      ],
      "execution_count": 5,
      "outputs": [
        {
          "output_type": "execute_result",
          "data": {
            "text/html": [
              "<div>\n",
              "<style scoped>\n",
              "    .dataframe tbody tr th:only-of-type {\n",
              "        vertical-align: middle;\n",
              "    }\n",
              "\n",
              "    .dataframe tbody tr th {\n",
              "        vertical-align: top;\n",
              "    }\n",
              "\n",
              "    .dataframe thead th {\n",
              "        text-align: right;\n",
              "    }\n",
              "</style>\n",
              "<table border=\"1\" class=\"dataframe\">\n",
              "  <thead>\n",
              "    <tr style=\"text-align: right;\">\n",
              "      <th></th>\n",
              "      <th>STATE</th>\n",
              "      <th>SOWNING SEASON</th>\n",
              "      <th>TEMP(°C)</th>\n",
              "      <th>SOIL  TYPE</th>\n",
              "      <th>CROP'S WATER NEED(mm)</th>\n",
              "      <th>COST OF PRODUCTION(Rs/Qtl)</th>\n",
              "      <th>YIELD(Qtl/ha)</th>\n",
              "      <th>CROP TYPE</th>\n",
              "      <th>state_n</th>\n",
              "      <th>sowing_season_n</th>\n",
              "      <th>soiltype_n</th>\n",
              "      <th>croptype_n</th>\n",
              "    </tr>\n",
              "  </thead>\n",
              "  <tbody>\n",
              "    <tr>\n",
              "      <th>0</th>\n",
              "      <td>MP</td>\n",
              "      <td>WINTER</td>\n",
              "      <td>20</td>\n",
              "      <td>LOAM</td>\n",
              "      <td>900</td>\n",
              "      <td>400</td>\n",
              "      <td>40</td>\n",
              "      <td>DRY CHILLI</td>\n",
              "      <td>1</td>\n",
              "      <td>5</td>\n",
              "      <td>1</td>\n",
              "      <td>1</td>\n",
              "    </tr>\n",
              "    <tr>\n",
              "      <th>1</th>\n",
              "      <td>MP</td>\n",
              "      <td>WINTER</td>\n",
              "      <td>20</td>\n",
              "      <td>CLAY</td>\n",
              "      <td>850</td>\n",
              "      <td>450</td>\n",
              "      <td>42</td>\n",
              "      <td>DRY CHILLI</td>\n",
              "      <td>1</td>\n",
              "      <td>5</td>\n",
              "      <td>0</td>\n",
              "      <td>1</td>\n",
              "    </tr>\n",
              "    <tr>\n",
              "      <th>2</th>\n",
              "      <td>MP</td>\n",
              "      <td>SPRING</td>\n",
              "      <td>25</td>\n",
              "      <td>LOAM</td>\n",
              "      <td>910</td>\n",
              "      <td>500</td>\n",
              "      <td>43</td>\n",
              "      <td>DRY CHILLI</td>\n",
              "      <td>1</td>\n",
              "      <td>3</td>\n",
              "      <td>1</td>\n",
              "      <td>1</td>\n",
              "    </tr>\n",
              "    <tr>\n",
              "      <th>3</th>\n",
              "      <td>MP</td>\n",
              "      <td>SPRING</td>\n",
              "      <td>25</td>\n",
              "      <td>SANDY</td>\n",
              "      <td>1000</td>\n",
              "      <td>490</td>\n",
              "      <td>45</td>\n",
              "      <td>DRY CHILLI</td>\n",
              "      <td>1</td>\n",
              "      <td>3</td>\n",
              "      <td>2</td>\n",
              "      <td>1</td>\n",
              "    </tr>\n",
              "    <tr>\n",
              "      <th>4</th>\n",
              "      <td>UP</td>\n",
              "      <td>WINTER</td>\n",
              "      <td>22</td>\n",
              "      <td>LOAM</td>\n",
              "      <td>860</td>\n",
              "      <td>590</td>\n",
              "      <td>39</td>\n",
              "      <td>DRY CHILLI</td>\n",
              "      <td>3</td>\n",
              "      <td>5</td>\n",
              "      <td>1</td>\n",
              "      <td>1</td>\n",
              "    </tr>\n",
              "  </tbody>\n",
              "</table>\n",
              "</div>"
            ],
            "text/plain": [
              "  STATE SOWNING SEASON  TEMP(°C)  ... sowing_season_n  soiltype_n  croptype_n\n",
              "0    MP         WINTER        20  ...               5           1           1\n",
              "1    MP         WINTER        20  ...               5           0           1\n",
              "2    MP         SPRING        25  ...               3           1           1\n",
              "3    MP         SPRING        25  ...               3           2           1\n",
              "4    UP         WINTER        22  ...               5           1           1\n",
              "\n",
              "[5 rows x 12 columns]"
            ]
          },
          "metadata": {
            "tags": []
          },
          "execution_count": 5
        }
      ]
    },
    {
      "cell_type": "code",
      "metadata": {
        "id": "Oo2FwOXfnz6B"
      },
      "source": [
        "x_croptype = data.drop(['STATE','SOWNING SEASON','SOIL  TYPE','CROP TYPE','croptype_n'],axis = 'columns')\n",
        "y_croptype = data['croptype_n']\n",
        "\n",
        "x_temp = data.drop(['STATE','SOWNING SEASON','SOIL  TYPE','CROP TYPE','TEMP(°C)'],axis = 'columns')\n",
        "y_temp = data['TEMP(°C)']\n",
        "\n",
        "x_soiltype = data.drop(['STATE','SOWNING SEASON','SOIL  TYPE','CROP TYPE','soiltype_n'],axis = 'columns')\n",
        "y_soiltype = data['soiltype_n']\n",
        "\n",
        "x_sowingseason = data.drop(['STATE','SOWNING SEASON','SOIL  TYPE','CROP TYPE','sowing_season_n'],axis = 'columns')\n",
        "y_sowingseason = data['sowing_season_n']\n",
        "\n",
        "x_need = data.drop(['STATE','SOWNING SEASON','SOIL  TYPE','CROP TYPE','CROP\\'S WATER NEED(mm)'],axis = 'columns')\n",
        "y_need = data['CROP\\'S WATER NEED(mm)']\n",
        "\n",
        "x_cost = data.drop(['STATE','SOWNING SEASON','SOIL  TYPE','CROP TYPE','COST OF PRODUCTION(Rs/Qtl)'],axis = 'columns')\n",
        "y_cost =data['COST OF PRODUCTION(Rs/Qtl)']\n",
        "\n",
        "x_yield = data.drop(['STATE','SOWNING SEASON','SOIL  TYPE','CROP TYPE','YIELD(Qtl/ha)'],axis = 'columns')\n",
        "y_yield = data['YIELD(Qtl/ha)']"
      ],
      "execution_count": 6,
      "outputs": []
    },
    {
      "cell_type": "code",
      "metadata": {
        "colab": {
          "base_uri": "https://localhost:8080/",
          "height": 402
        },
        "id": "V5_y4gqfzR0r",
        "outputId": "5c6e760e-ef38-4b8b-a1dd-5a06acc11869"
      },
      "source": [
        "x_croptype"
      ],
      "execution_count": 7,
      "outputs": [
        {
          "output_type": "execute_result",
          "data": {
            "text/html": [
              "<div>\n",
              "<style scoped>\n",
              "    .dataframe tbody tr th:only-of-type {\n",
              "        vertical-align: middle;\n",
              "    }\n",
              "\n",
              "    .dataframe tbody tr th {\n",
              "        vertical-align: top;\n",
              "    }\n",
              "\n",
              "    .dataframe thead th {\n",
              "        text-align: right;\n",
              "    }\n",
              "</style>\n",
              "<table border=\"1\" class=\"dataframe\">\n",
              "  <thead>\n",
              "    <tr style=\"text-align: right;\">\n",
              "      <th></th>\n",
              "      <th>TEMP(°C)</th>\n",
              "      <th>CROP'S WATER NEED(mm)</th>\n",
              "      <th>COST OF PRODUCTION(Rs/Qtl)</th>\n",
              "      <th>YIELD(Qtl/ha)</th>\n",
              "      <th>state_n</th>\n",
              "      <th>sowing_season_n</th>\n",
              "      <th>soiltype_n</th>\n",
              "    </tr>\n",
              "  </thead>\n",
              "  <tbody>\n",
              "    <tr>\n",
              "      <th>0</th>\n",
              "      <td>20</td>\n",
              "      <td>900</td>\n",
              "      <td>400</td>\n",
              "      <td>40</td>\n",
              "      <td>1</td>\n",
              "      <td>5</td>\n",
              "      <td>1</td>\n",
              "    </tr>\n",
              "    <tr>\n",
              "      <th>1</th>\n",
              "      <td>20</td>\n",
              "      <td>850</td>\n",
              "      <td>450</td>\n",
              "      <td>42</td>\n",
              "      <td>1</td>\n",
              "      <td>5</td>\n",
              "      <td>0</td>\n",
              "    </tr>\n",
              "    <tr>\n",
              "      <th>2</th>\n",
              "      <td>25</td>\n",
              "      <td>910</td>\n",
              "      <td>500</td>\n",
              "      <td>43</td>\n",
              "      <td>1</td>\n",
              "      <td>3</td>\n",
              "      <td>1</td>\n",
              "    </tr>\n",
              "    <tr>\n",
              "      <th>3</th>\n",
              "      <td>25</td>\n",
              "      <td>1000</td>\n",
              "      <td>490</td>\n",
              "      <td>45</td>\n",
              "      <td>1</td>\n",
              "      <td>3</td>\n",
              "      <td>2</td>\n",
              "    </tr>\n",
              "    <tr>\n",
              "      <th>4</th>\n",
              "      <td>22</td>\n",
              "      <td>860</td>\n",
              "      <td>590</td>\n",
              "      <td>39</td>\n",
              "      <td>3</td>\n",
              "      <td>5</td>\n",
              "      <td>1</td>\n",
              "    </tr>\n",
              "    <tr>\n",
              "      <th>...</th>\n",
              "      <td>...</td>\n",
              "      <td>...</td>\n",
              "      <td>...</td>\n",
              "      <td>...</td>\n",
              "      <td>...</td>\n",
              "      <td>...</td>\n",
              "      <td>...</td>\n",
              "    </tr>\n",
              "    <tr>\n",
              "      <th>94</th>\n",
              "      <td>27</td>\n",
              "      <td>1050</td>\n",
              "      <td>1560</td>\n",
              "      <td>53</td>\n",
              "      <td>1</td>\n",
              "      <td>1</td>\n",
              "      <td>1</td>\n",
              "    </tr>\n",
              "    <tr>\n",
              "      <th>95</th>\n",
              "      <td>31</td>\n",
              "      <td>1300</td>\n",
              "      <td>1610</td>\n",
              "      <td>58</td>\n",
              "      <td>1</td>\n",
              "      <td>4</td>\n",
              "      <td>3</td>\n",
              "    </tr>\n",
              "    <tr>\n",
              "      <th>96</th>\n",
              "      <td>29</td>\n",
              "      <td>1350</td>\n",
              "      <td>1555</td>\n",
              "      <td>52</td>\n",
              "      <td>0</td>\n",
              "      <td>1</td>\n",
              "      <td>0</td>\n",
              "    </tr>\n",
              "    <tr>\n",
              "      <th>97</th>\n",
              "      <td>30</td>\n",
              "      <td>1250</td>\n",
              "      <td>1540</td>\n",
              "      <td>55</td>\n",
              "      <td>0</td>\n",
              "      <td>1</td>\n",
              "      <td>0</td>\n",
              "    </tr>\n",
              "    <tr>\n",
              "      <th>98</th>\n",
              "      <td>28</td>\n",
              "      <td>1110</td>\n",
              "      <td>1590</td>\n",
              "      <td>59</td>\n",
              "      <td>2</td>\n",
              "      <td>1</td>\n",
              "      <td>1</td>\n",
              "    </tr>\n",
              "  </tbody>\n",
              "</table>\n",
              "<p>99 rows × 7 columns</p>\n",
              "</div>"
            ],
            "text/plain": [
              "    TEMP(°C)  CROP'S WATER NEED(mm)  ...  sowing_season_n  soiltype_n\n",
              "0         20                    900  ...                5           1\n",
              "1         20                    850  ...                5           0\n",
              "2         25                    910  ...                3           1\n",
              "3         25                   1000  ...                3           2\n",
              "4         22                    860  ...                5           1\n",
              "..       ...                    ...  ...              ...         ...\n",
              "94        27                   1050  ...                1           1\n",
              "95        31                   1300  ...                4           3\n",
              "96        29                   1350  ...                1           0\n",
              "97        30                   1250  ...                1           0\n",
              "98        28                   1110  ...                1           1\n",
              "\n",
              "[99 rows x 7 columns]"
            ]
          },
          "metadata": {
            "tags": []
          },
          "execution_count": 7
        }
      ]
    },
    {
      "cell_type": "code",
      "metadata": {
        "colab": {
          "base_uri": "https://localhost:8080/"
        },
        "id": "FAvkLUX-zZrs",
        "outputId": "cfeee92f-d860-4cb8-ef78-c6221c31a7c4"
      },
      "source": [
        "y_croptype"
      ],
      "execution_count": 8,
      "outputs": [
        {
          "output_type": "execute_result",
          "data": {
            "text/plain": [
              "0     1\n",
              "1     1\n",
              "2     1\n",
              "3     1\n",
              "4     1\n",
              "     ..\n",
              "94    6\n",
              "95    6\n",
              "96    6\n",
              "97    6\n",
              "98    6\n",
              "Name: croptype_n, Length: 99, dtype: int64"
            ]
          },
          "metadata": {
            "tags": []
          },
          "execution_count": 8
        }
      ]
    },
    {
      "cell_type": "markdown",
      "metadata": {
        "id": "Nyq1Cy_nl7VL"
      },
      "source": [
        "## KNN"
      ]
    },
    {
      "cell_type": "code",
      "metadata": {
        "colab": {
          "base_uri": "https://localhost:8080/"
        },
        "id": "1ER3Xi_OkgGA",
        "outputId": "a57d3dcf-24a8-47ba-fadb-665555c72347"
      },
      "source": [
        "x = x_croptype\n",
        "y = y_croptype\n",
        "print(x.shape)\n",
        "print(y.shape)"
      ],
      "execution_count": 9,
      "outputs": [
        {
          "output_type": "stream",
          "text": [
            "(99, 7)\n",
            "(99,)\n"
          ],
          "name": "stdout"
        }
      ]
    },
    {
      "cell_type": "code",
      "metadata": {
        "id": "QJKsMoABpKCH"
      },
      "source": [
        "from sklearn.neighbors import KNeighborsClassifier"
      ],
      "execution_count": 10,
      "outputs": []
    },
    {
      "cell_type": "code",
      "metadata": {
        "colab": {
          "base_uri": "https://localhost:8080/"
        },
        "id": "lBfJ33EMjCQC",
        "outputId": "2142f0dc-b095-4f33-e923-85d1cec0524c"
      },
      "source": [
        "from sklearn.model_selection import train_test_split\n",
        "x_train, x_test, y_train, y_test = train_test_split(x,y,test_size=0.3,random_state=4)\n",
        "\n",
        "print(x_train.shape)\n",
        "print(x_test.shape)\n",
        "print(y_train.shape)\n",
        "print(y_test.shape)\n"
      ],
      "execution_count": 11,
      "outputs": [
        {
          "output_type": "stream",
          "text": [
            "(69, 7)\n",
            "(30, 7)\n",
            "(69,)\n",
            "(30,)\n"
          ],
          "name": "stdout"
        }
      ]
    },
    {
      "cell_type": "code",
      "metadata": {
        "colab": {
          "base_uri": "https://localhost:8080/"
        },
        "id": "JLPfa2TejvbT",
        "outputId": "99cf726b-a60c-424a-9ae0-3b5f12077d71"
      },
      "source": [
        "from sklearn import metrics\n",
        "k_range = range(1,26)\n",
        "scores = []\n",
        "for k in k_range:\n",
        "  knn = KNeighborsClassifier(n_neighbors=k)\n",
        "  knn.fit(x_train,y_train)\n",
        "  y_pred = knn.predict(x_test)\n",
        "  scores.append(metrics.accuracy_score(y_test,y_pred))\n",
        "\n",
        "print(scores)"
      ],
      "execution_count": 12,
      "outputs": [
        {
          "output_type": "stream",
          "text": [
            "[1.0, 0.9333333333333333, 0.9333333333333333, 0.8666666666666667, 0.9333333333333333, 0.9333333333333333, 0.9333333333333333, 0.9, 0.9666666666666667, 0.9, 0.9, 0.7666666666666667, 0.7666666666666667, 0.5333333333333333, 0.5, 0.4666666666666667, 0.4666666666666667, 0.3333333333333333, 0.3333333333333333, 0.3, 0.26666666666666666, 0.26666666666666666, 0.23333333333333334, 0.23333333333333334, 0.23333333333333334]\n"
          ],
          "name": "stdout"
        }
      ]
    },
    {
      "cell_type": "code",
      "metadata": {
        "colab": {
          "base_uri": "https://localhost:8080/",
          "height": 279
        },
        "id": "qs94kJyukEWf",
        "outputId": "e5efdb74-e238-4b01-9280-0f5e12ffc72a"
      },
      "source": [
        "import matplotlib.pyplot as plt\n",
        "\n",
        "#plot the relationship between K and testing accuracy\n",
        "plt.plot(k_range,scores)\n",
        "plt.xlabel(\"Value of K for KNN\")\n",
        "plt.ylabel(\"Testing Accuracy\")\n",
        "plt.show()"
      ],
      "execution_count": 13,
      "outputs": [
        {
          "output_type": "display_data",
          "data": {
            "image/png": "[encoded data removed]",
            "text/plain": [
              "<Figure size 432x288 with 1 Axes>"
            ]
          },
          "metadata": {
            "tags": [],
            "needs_background": "light"
          }
        }
      ]
    },
    {
      "cell_type": "code",
      "metadata": {
        "colab": {
          "base_uri": "https://localhost:8080/"
        },
        "id": "gLeuSqQ_kEam",
        "outputId": "d19ae311-8ed4-4024-e794-5479f54dd9d4"
      },
      "source": [
        "knn = KNeighborsClassifier(n_neighbors=1)\n",
        "knn.fit(x_train,y_train)\n",
        "y_pred = knn.predict(x_test)\n",
        "print(metrics.accuracy_score(y_test,y_pred))"
      ],
      "execution_count": 14,
      "outputs": [
        {
          "output_type": "stream",
          "text": [
            "1.0\n"
          ],
          "name": "stdout"
        }
      ]
    },
    {
      "cell_type": "code",
      "metadata": {
        "colab": {
          "base_uri": "https://localhost:8080/"
        },
        "id": "j2NE0g_PjHk9",
        "outputId": "4bdfe51f-3a70-40e0-a140-29840a360fcf"
      },
      "source": [
        "from sklearn import tree\n",
        "\n",
        "DT_model = tree.DecisionTreeClassifier()\n",
        "\n",
        "DT_model.fit(x_train,y_train)"
      ],
      "execution_count": 15,
      "outputs": [
        {
          "output_type": "execute_result",
          "data": {
            "text/plain": [
              "DecisionTreeClassifier(ccp_alpha=0.0, class_weight=None, criterion='gini',\n",
              "                       max_depth=None, max_features=None, max_leaf_nodes=None,\n",
              "                       min_impurity_decrease=0.0, min_impurity_split=None,\n",
              "                       min_samples_leaf=1, min_samples_split=2,\n",
              "                       min_weight_fraction_leaf=0.0, presort='deprecated',\n",
              "                       random_state=None, splitter='best')"
            ]
          },
          "metadata": {
            "tags": []
          },
          "execution_count": 15
        }
      ]
    },
    {
      "cell_type": "code",
      "metadata": {
        "colab": {
          "base_uri": "https://localhost:8080/"
        },
        "id": "O9sRYw6_NNep",
        "outputId": "a32656e4-1d8f-4ad8-c643-74822e1d1d15"
      },
      "source": [
        "y_pred1 = DT_model.predict(x_test)\n",
        "\n",
        "print(metrics.accuracy_score(y_test,y_pred1))"
      ],
      "execution_count": 16,
      "outputs": [
        {
          "output_type": "stream",
          "text": [
            "0.9666666666666667\n"
          ],
          "name": "stdout"
        }
      ]
    },
    {
      "cell_type": "markdown",
      "metadata": {
        "id": "f7PEGGmKN98n"
      },
      "source": [
        "## Recommendation System"
      ]
    },
    {
      "cell_type": "code",
      "metadata": {
        "colab": {
          "base_uri": "https://localhost:8080/"
        },
        "id": "Oxt9a02LNwQd",
        "outputId": "1c2eb474-e151-47a1-e28b-f402a51e7eda"
      },
      "source": [
        "knn_model_croptype = KNeighborsClassifier(n_neighbors=1)\n",
        "knn_model_croptype.fit(x,y)\n",
        "\n",
        "knn_model_temp = KNeighborsClassifier(n_neighbors=1)\n",
        "knn_model_temp.fit(x_temp,y_temp)\n",
        "\n",
        "knn_model_season = KNeighborsClassifier(n_neighbors=1)\n",
        "knn_model_season.fit(x_sowingseason,y_sowingseason)\n",
        "\n",
        "knn_model_need = KNeighborsClassifier(n_neighbors=1)\n",
        "knn_model_need.fit(x_need,y_need)\n",
        "\n",
        "knn_model_cost = KNeighborsClassifier(n_neighbors=1)\n",
        "knn_model_cost.fit(x_cost,y_cost)\n",
        "\n",
        "knn_model_soiltype = KNeighborsClassifier(n_neighbors=1)\n",
        "knn_model_soiltype.fit(x_soiltype,y_soiltype)\n",
        "\n",
        "knn_model_yield = KNeighborsClassifier(n_neighbors=1)\n",
        "knn_model_yield.fit(x_yield,y_yield)"
      ],
      "execution_count": 17,
      "outputs": [
        {
          "output_type": "execute_result",
          "data": {
            "text/plain": [
              "KNeighborsClassifier(algorithm='auto', leaf_size=30, metric='minkowski',\n",
              "                     metric_params=None, n_jobs=None, n_neighbors=1, p=2,\n",
              "                     weights='uniform')"
            ]
          },
          "metadata": {
            "tags": []
          },
          "execution_count": 17
        }
      ]
    },
    {
      "cell_type": "code",
      "metadata": {
        "id": "nI29QRiLPY1v"
      },
      "source": [
        "    def croptype_pred():\n",
        "      print(\"Hello Farmer!\\nPlease Enter the details and we will guide you which crop you should grow at your farm.....\\n\")\n",
        "      print(\"\\n0 : Gujarat\\n1 : MadhyaPradesh\\n2 : Rajastan\\n3 : UttarPradesh\")\n",
        "      state = int(input(\"Are you in which state? From above, please enter 0-3 ---- \"))\n",
        "      print(\"\\n0 : Autumn\\n1 : Monsoon\\n2 : Pre-winter\\n3 : Spring\\n4 : Summer\\n5 : Winter\")\n",
        "      season = int(input(\"In which season you want to grow your crop? From above, please enter 0-5 ---- \"))\n",
        "      temp = int(input(\"\\nWhat will be the temperature while sowing in °C? ---- \"))\n",
        "      print(\"\\n0 : Clay\\n1 : Loam\\n2 : Sandy\\n3 : Silt\")\n",
        "      soil = int(input(\"What is the soil type? From above, please select 0-3 ---- \"))\n",
        "      water = int(input(\"\\nHow much water(in mm) will be available to farm approximately? ---- \"))\n",
        "      cost = int(input(\"\\nWhat is your budget per Quintal? ---- \"))\n",
        "      production = float(input(\"\\nHow much quintal yield you want per hectare? ---- \"))\n",
        "      #Predicting...........................................................................\n",
        "      print(\"\\n\\nPREDICTION.................................\\n\")\n",
        "      test_sample = ([temp,water,cost,production,state,season,soil])\n",
        "      crop_prediction = knn_model_croptype.predict([test_sample])\n",
        "      if crop_prediction==0:\n",
        "        print(\"You should grow COTTON in your farm\")\n",
        "      elif crop_prediction==1:\n",
        "        print(\"You should grow DRY CHILLI in your farm\")\n",
        "      elif crop_prediction==2:\n",
        "        print(\"You should grow GARLIC in your farm\")\n",
        "      elif crop_prediction==3:\n",
        "        print(\"You should grow GREENGRAM in your farm\")\n",
        "      elif crop_prediction==4:\n",
        "        print(\"You should grow GROUNDNUT in your farm\")\n",
        "      elif crop_prediction==5:\n",
        "        print(\"You should grow MILLET in your farm\")\n",
        "      elif crop_prediction==6:\n",
        "        print(\"You should grow RICE in your farm\")\n",
        "      elif crop_prediction==7:\n",
        "        print(\"You should grow SOYABEAN in your farm\")\n",
        "      elif crop_prediction==8:\n",
        "        print(\"You should grow SUGARCANE in your farm\")\n",
        "      elif crop_prediction==9:\n",
        "        print(\"You should grow WHEAT in your farm\")"
      ],
      "execution_count": 18,
      "outputs": []
    },
    {
      "cell_type": "code",
      "metadata": {
        "id": "0btrUrNIfAnS"
      },
      "source": [
        "    def temp_pred():\n",
        "      print(\"\\n0 : Gujarat\\n1 : MadhyaPradesh\\n2 : Rajastan\\n3 : UttarPradesh\")\n",
        "      state = int(input(\"Are you in which state? From above, please enter 0-3 ---- \"))\n",
        "      print(\"\\n0 : Autumn\\n1 : Monsoon\\n2 : Pre-winter\\n3 : Spring\\n4 : Summer\\n5 : Winter\")\n",
        "      season = int(input(\"In which season you want to grow your crop? From above, please enter 0-5 ---- \"))\n",
        "      print(\"\\n0 : cotton\\n1 : dry chilli\\n2 : garlic\\n3 : greengram\\n4 : groundnut\\n5 : millet\\n6 : rice\\n7 : soyabean\\n8 : sugarcane\\n9 : wheat\")\n",
        "      croptype = int(input(print(\"Please select the croptype from above which are you planning to sown,select 0-9 ----\")))\n",
        "      print(\"\\n0 : Clay\\n1 : Loam\\n2 : Sandy\\n3 : Silt\")\n",
        "      soil = int(input(\"What is the soil type? From above, please select 0-3 ---- \"))\n",
        "      water = int(input(\"\\nHow much water(in mm) will be available to farm approximately? ---- \"))\n",
        "      cost = int(input(\"\\nWhat is your budget per Quintal? ---- \"))\n",
        "      production = float(input(\"\\nHow much quintal yield you want per hectare? ---- \"))\n",
        "      #Predicting...........................................................................\n",
        "      print(\"\\n\\nPREDICTION.................................\\n\")\n",
        "      test_sample = ([water,cost,production,state,season,soil,croptype])\n",
        "      pre_temp = knn_model_temp.predict([test_sample])\n",
        "      print(\"your predicted temperature(degree calcius) is:\",pre_temp)"
      ],
      "execution_count": 19,
      "outputs": []
    },
    {
      "cell_type": "code",
      "metadata": {
        "id": "MjMo1KVzpC3c"
      },
      "source": [
        "    def need_pred():\n",
        "      print(\"\\n0 : Gujarat\\n1 : MadhyaPradesh\\n2 : Rajastan\\n3 : UttarPradesh\")\n",
        "      state = int(input(\"Are you in which state? From above, please enter 0-3 ---- \"))\n",
        "      print(\"\\n0 : Autumn\\n1 : Monsoon\\n2 : Pre-winter\\n3 : Spring\\n4 : Summer\\n5 : Winter\")\n",
        "      season = int(input(\"In which season you want to grow your crop? From above, please enter 0-5 ---- \"))\n",
        "      temp = int(input(\"\\nWhat will be the temperature while sowing in °C? ---- \"))\n",
        "      print(\"\\n0 : cotton\\n1 : dry chilli\\n2 : garlic\\n3 : greengram\\n4 : groundnut\\n5 : millet\\n6 : rice\\n7 : soyabean\\n8 : sugarcane\\n9 : wheat\")\n",
        "      croptype = int(input(print(\"Please select the croptype from above which are you planning to sown,select 0-9 ----\")))\n",
        "      print(\"\\n0 : Clay\\n1 : Loam\\n2 : Sandy\\n3 : Silt\")\n",
        "      soil = int(input(\"What is the soil type? From above, please select 0-3 ---- \"))\n",
        "      cost = int(input(\"\\nWhat is your budget per Quintal? ---- \"))\n",
        "      production = float(input(\"\\nHow much quintal yield you want per hectare? ---- \"))\n",
        "      #Predicting...........................................................................\n",
        "      print(\"\\n\\nPREDICTION.................................\\n\")\n",
        "      test_sample = ([temp,cost,production,state,season,soil,croptype])\n",
        "      pre_need = knn_model_need.predict([test_sample])\n",
        "      print(\"your predicted water need(in mm) is:\",pre_need)"
      ],
      "execution_count": 20,
      "outputs": []
    },
    {
      "cell_type": "code",
      "metadata": {
        "id": "deVo2tlL48vu"
      },
      "source": [
        "    def season_pred():\n",
        "      print(\"\\n0 : Gujarat\\n1 : MadhyaPradesh\\n2 : Rajastan\\n3 : UttarPradesh\")\n",
        "      state = int(input(\"Are you in which state? From above, please enter 0-3 ---- \"))\n",
        "      #print(\"\\n0 : Autumn\\n1 : Monsoon\\n2 : Pre-winter\\n3 : Spring\\n4 : Summer\\n5 : Winter\\n\")\n",
        "      #season = int(input(\"In which season you want to grow your crop? From above, please enter 0-5 ---- \"))\n",
        "      print(\"\\n0 : cotton\\n1 : dry chilli\\n2 : garlic\\n3 : greengram\\n4 : groundnut\\n5 : millet\\n6 : rice\\n7 : soyabean\\n8 : sugarcane\\n9 : wheat\")\n",
        "      croptype = int(input(print(\"please select the croptype from above which are you planning to sown,select 0-9 ----\")))\n",
        "      print(\"\\n0 : Clay\\n1 : Loam\\n2 : Sandy\\n3 : Silt\")\n",
        "      soil = int(input(\"What is the soil type? From above, please select 0-3 ---- \"))\n",
        "      water = int(input(\"\\nHow much water(in mm) will be available to farm approximately? ---- \"))\n",
        "      temp = int(input(\"\\nWhat will be the temperature while sowing in °C? ---- \"))\n",
        "      cost = int(input(\"\\nWhat is your budget per Quintal? ---- \"))\n",
        "      production = float(input(\"\\nHow much quintal yield you want per hectare? ---- \"))\n",
        "      #Predicting...........................................................................\n",
        "      print(\"\\n\\nPREDICTION.................................\\n\")\n",
        "      test_sample = ([temp,water,cost,production,state,soil,croptype])\n",
        "      pre_season = knn_model_season.predict([test_sample])\n",
        "      if pre_season==0:\n",
        "        print(\"best season for your crop is AUTUMN\")\n",
        "      elif pre_season==1:\n",
        "        print(\"best season for your crop is MONSOON\")\n",
        "      elif pre_season==2:\n",
        "        print(\"best season for your crop is PRE-WINTER\")\n",
        "      elif pre_season==3:\n",
        "        print(\"best season for your crop is SPRING\")\n",
        "      elif pre_season==4:\n",
        "        print(\"best season for your crop is SUMMER\")\n",
        "      elif pre_season==5:\n",
        "        print(\"best season for your crop is WINTER\")"
      ],
      "execution_count": 21,
      "outputs": []
    },
    {
      "cell_type": "code",
      "metadata": {
        "id": "1jy2i_cN7XJb"
      },
      "source": [
        "    def cost_pred():\n",
        "      print(\"\\n0 : Gujarat\\n1 : MadhyaPradesh\\n2 : Rajastan\\n3 : UttarPradesh\")\n",
        "      state = int(input(\"Are you in which state? From above, please enter 0-3 ---- \"))\n",
        "      print(\"\\n0 : Autumn\\n1 : Monsoon\\n2 : Pre-winter\\n3 : Spring\\n4 : Summer\\n5 : Winter\")\n",
        "      season = int(input(\"In which season you want to grow your crop? From above, please enter 0-5 ---- \"))\n",
        "      temp = int(input(\"\\nWhat will be the temperature while sowing in °C? ---- \"))\n",
        "      print(\"\\n0 : cotton\\n1 : dry chilli\\n2 : garlic\\n3 : greengram\\n4 : groundnut\\n5 : millet\\n6 : rice\\n7 : soyabean\\n8 : sugarcane\\n9 : wheat\")\n",
        "      croptype = int(input(print(\"please select the croptype from above which are you planning to sown,select 0-9 ----\")))\n",
        "      print(\"\\n0 : Clay\\n1 : Loam\\n2 : Sandy\\n3 : Silt\")\n",
        "      soil = int(input(\"What is the soil type? From above, please select 0-3 ---- \"))\n",
        "      water = int(input(\"\\nHow much water(in mm) will be available to farm approximately? ---- \"))\n",
        "      production = float(input(\"\\nHow much quintal yield you want per hectare? ---- \"))\n",
        "      #Predicting...........................................................................\n",
        "      print(\"\\n\\nPREDICTION.................................\\n\")\n",
        "      test_sample = ([temp,water,production,state,season,soil,croptype])\n",
        "      pre_cost = knn_model_cost.predict([test_sample])\n",
        "      print(\"your predicted cost of production is:\",pre_cost)"
      ],
      "execution_count": 22,
      "outputs": []
    },
    {
      "cell_type": "code",
      "metadata": {
        "id": "Yza5HNPu_YTj"
      },
      "source": [
        "    def soiltype_pred():\n",
        "      print(\"\\n0 : Gujarat\\n1 : MadhyaPradesh\\n2 : Rajastan\\n3 : UttarPradesh\")\n",
        "      state = int(input(\"Are you in which state? From above, please enter 0-3 ---- \"))\n",
        "      print(\"\\n0 : Autumn\\n1 : Monsoon\\n2 : Pre-winter\\n3 : Spring\\n4 : Summer\\n5 : Winter\")\n",
        "      season = int(input(\"In which season you want to grow your crop? From above, please enter 0-5 ---- \"))\n",
        "      print(\"\\n0 : cotton\\n1 : dry chilli\\n2 : garlic\\n3 : greengram\\n4 : groundnut\\n5 : millet\\n6 : rice\\n7 : soyabean\\n8 : sugarcane\\n9 : wheat\")\n",
        "      croptype = int(input(print(\"Please select the croptype from above which are you planning to sown,select 0-9 ----\")))\n",
        "      #print(\"\\n0 : Clay\\n 1 : Loam\\n 2 : Sandy\\n 3 : Silt\\n\")\n",
        "      #soil = int(input(\"What is the soil type? From above, please select 0-3 ---- \"))\n",
        "      water = int(input(\"\\nHow much water(in mm) will be available to farm approximately? ---- \"))\n",
        "      temp = int(input(\"\\nWhat will be the temperature while sowing in °C? ---- \"))\n",
        "      cost = int(input(\"\\nWhat is your budget per Quintal? ---- \"))\n",
        "      production = float(input(\"\\nHow much quintal yield you want per hectare? ---- \"))\n",
        "      #Predicting...........................................................................\n",
        "      print(\"\\n\\nPREDICTION.................................\\n\")\n",
        "      test_sample = ([temp,water,cost,production,state,season,croptype])\n",
        "      pre_soiltype = knn_model_soiltype.predict([test_sample])\n",
        "      if pre_soiltype==0:\n",
        "        print(\"best soil for your crop is CLAY\")\n",
        "      elif pre_soiltype==1:\n",
        "        print(\"best soil for your crop is LOAM\")\n",
        "      elif pre_soiltype==2:\n",
        "        print(\"best soil for your crop is SANDY\")\n",
        "      elif pre_soiltype==3:\n",
        "        print(\"best soil for your crop is SLIT\")"
      ],
      "execution_count": 23,
      "outputs": []
    },
    {
      "cell_type": "code",
      "metadata": {
        "id": "cRTzKMBHAZYj"
      },
      "source": [
        "    def yield_pred():\n",
        "      print(\"\\n0 : Gujarat\\n1 : MadhyaPradesh\\n2 : Rajastan\\n3 : UttarPradesh\")\n",
        "      state = int(input(\"Are you in which state? From above, please enter 0-3 ---- \"))\n",
        "      print(\"\\n0 : Autumn\\n1 : Monsoon\\n2 : Pre-winter\\n3 : Spring\\n4 : Summer\\n5 : Winter\")\n",
        "      season = int(input(\"In which season you want to grow your crop? From above, please enter 0-5 ---- \"))\n",
        "      print(\"\\n0 : cotton\\n1 : dry chilli\\n2 : garlic\\n3 : greengram\\n4 : groundnut\\n5 : millet\\n6 : rice\\n7 : soyabean\\n8 : sugarcane\\n9 : wheat\")\n",
        "      croptype = int(input(print(\"Please select the croptype from above which are you planning to sown,select 0-9 ----\")))\n",
        "      print(\"\\n0 : Clay\\n1 : Loam\\n2 : Sandy\\n3 : Silt\")\n",
        "      soil = int(input(\"What is the soil type? From above, please select 0-3 ---- \"))\n",
        "      water = int(input(\"\\nHow much water(in mm) will be available to farm approximately? ---- \"))\n",
        "      temp = int(input(\"\\nWhat will be the temperature while sowing in °C? ---- \"))\n",
        "      cost = int(input(\"\\nWhat is your budget per Quintal? ---- \"))\n",
        "      #Predicting...........................................................................\n",
        "      print(\"\\n\\nPREDICTION.................................\\n\")\n",
        "      test_sample = ([temp,water,cost,state,season,soil,croptype])\n",
        "      pre_yield = knn_model_yield.predict([test_sample])\n",
        "      print(\"your predicted yield is:\",pre_yield)"
      ],
      "execution_count": 24,
      "outputs": []
    },
    {
      "cell_type": "code",
      "metadata": {
        "colab": {
          "base_uri": "https://localhost:8080/"
        },
        "id": "00Y3D4q2Ps0m",
        "outputId": "49746195-de50-48e4-9c01-873105897273"
      },
      "source": [
        "while True:\n",
        "  print(\"\\n1.temparature\\n2.crop's water need(mm)\\n3.sowing season\\n4.cost of production(rs/qtl)\\n5.yield(qtl/ha)\\n6.soil type\\n7.crop type\\n8.exit\")\n",
        "  number = int(input(print(\"Hello farmers!! Which information you need? Please select from options...\")))\n",
        "  if number == 1:\n",
        "    temp_pred()\n",
        "  elif number == 2:\n",
        "    need_pred()\n",
        "  elif number == 3:\n",
        "    season_pred()\n",
        "  elif number == 4:\n",
        "    cost_pred()\n",
        "  elif number == 5:\n",
        "    yield_pred()\n",
        "  elif number == 6:\n",
        "    soiltype_pred()\n",
        "  elif number == 7:\n",
        "    croptype_pred()\n",
        "  else:\n",
        "    break\n",
        "    exit()"
      ],
      "execution_count": 27,
      "outputs": [
        {
          "output_type": "stream",
          "text": [
            "\n",
            "1.temparature\n",
            "2.crop's water need(mm)\n",
            "3.sowing season\n",
            "4.cost of production(rs/qtl)\n",
            "5.yield(qtl/ha)\n",
            "6.soil type\n",
            "7.crop type\n",
            "8.exit\n",
            "Hello farmers!! Which information you need? Please select from options...\n",
            "3\n",
            "\n",
            "0 : Gujarat\n",
            "1 : MadhyaPradesh\n",
            "2 : Rajastan\n",
            "3 : UttarPradesh\n",
            "Are you in which state? From above, please enter 0-3 ---- 3\n",
            "\n",
            "0 : cotton\n",
            "1 : dry chilli\n",
            "2 : garlic\n",
            "3 : greengram\n",
            "4 : groundnut\n",
            "5 : millet\n",
            "6 : rice\n",
            "7 : soyabean\n",
            "8 : sugarcane\n",
            "9 : wheat\n",
            "please select the croptype from above which are you planning to sown,select 0-9 ----\n",
            "8\n",
            "\n",
            "0 : Clay\n",
            "1 : Loam\n",
            "2 : Sandy\n",
            "3 : Silt\n",
            "What is the soil type? From above, please select 0-3 ---- 0\n",
            "\n",
            "How much water(in mm) will be available to farm approximately? ---- 2000\n",
            "\n",
            "What will be the temperature while sowing in °C? ---- 25\n",
            "\n",
            "What is your budget per Quintal? ---- 220\n",
            "\n",
            "How much quintal yield you want per hectare? ---- 1000\n",
            "\n",
            "\n",
            "PREDICTION.................................\n",
            "\n",
            "best season for your crop is AUTUMN\n",
            "\n",
            "1.temparature\n",
            "2.crop's water need(mm)\n",
            "3.sowing season\n",
            "4.cost of production(rs/qtl)\n",
            "5.yield(qtl/ha)\n",
            "6.soil type\n",
            "7.crop type\n",
            "8.exit\n",
            "Hello farmers!! Which information you need? Please select from options...\n",
            "8\n"
          ],
          "name": "stdout"
        }
      ]
    }
  ]
}